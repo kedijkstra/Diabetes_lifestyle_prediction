{
 "cells": [
  {
   "cell_type": "code",
   "execution_count": 1,
   "id": "4464431b-9114-4a36-a44b-7873f3eb7a08",
   "metadata": {},
   "outputs": [],
   "source": [
    "from experimental_modeling_pipeline import Experimental_modeling_pipeline as emp\n",
    "from experimental_modeling_pipeline import Data_engineering as de\n",
    "from experimental_modeling_pipeline import DiabetesPreprocessing as dp\n",
    "import pandas as pd\n",
    "import numpy as np\n",
    "from sklearn.experimental import enable_iterative_imputer\n",
    "from sklearn.impute import IterativeImputer\n",
    "\n",
    "emp = emp()\n",
    "dp = dp(\"C:/Users/keimp/\")"
   ]
  },
  {
   "cell_type": "code",
   "execution_count": 2,
   "id": "92c4b760-4f0b-4998-9e8d-f4373de166e2",
   "metadata": {},
   "outputs": [
    {
     "name": "stderr",
     "output_type": "stream",
     "text": [
      "C:\\Users\\keimp\\AppData\\Roaming\\Python\\Python39\\site-packages\\IPython\\core\\interactiveshell.py:3318: DtypeWarning: Columns (3) have mixed types.Specify dtype option on import or set low_memory=False.\n",
      "  if await self.run_code(code, result, async_=asy):\n",
      "C:\\Users\\keimp\\NHS\\Code\\experimental_modeling\\diabetes\\experimental_modeling_pipeline.py:723: FutureWarning: The pandas.np module is deprecated and will be removed from pandas in a future version. Import numpy directly instead\n",
      "  return pd.np.nan\n"
     ]
    },
    {
     "name": "stdout",
     "output_type": "stream",
     "text": [
      "Varible not convertable to datetime:  Date E11 first reported (non-insulin-dependent diabetes mellitus)    Code has event date matching participant's dat...\n",
      "Date E14 first reported (unspecified diabetes mellitus)                                                     1998-11-01\n",
      "Name: 225392, dtype: object\n",
      "Varible not convertable to datetime:  Date E10 first reported (insulin-dependent diabetes mellitus)                                               2007-05-10\n",
      "Date E11 first reported (non-insulin-dependent diabetes mellitus)    Code has event date matching participant's dat...\n",
      "Date E14 first reported (unspecified diabetes mellitus)                                                     2005-02-06\n",
      "Name: 318419, dtype: object\n",
      "Varible not convertable to datetime:  Date E11 first reported (non-insulin-dependent diabetes mellitus)    Code has event date matching participant's dat...\n",
      "Date E14 first reported (unspecified diabetes mellitus)                                                     1994-03-01\n",
      "Name: 418282, dtype: object\n",
      "Varible not convertable to datetime:  Date E10 first reported (insulin-dependent diabetes mellitus)        Code has event date matching participant's dat...\n",
      "Date E11 first reported (non-insulin-dependent diabetes mellitus)                                           2006-12-14\n",
      "Date E14 first reported (unspecified diabetes mellitus)                                                     1974-09-01\n",
      "Name: 458276, dtype: object\n"
     ]
    },
    {
     "name": "stderr",
     "output_type": "stream",
     "text": [
      "C:\\Users\\keimp\\AppData\\Roaming\\Python\\Python39\\site-packages\\IPython\\core\\interactiveshell.py:3318: DtypeWarning: Columns (3) have mixed types.Specify dtype option on import or set low_memory=False.\n",
      "  if await self.run_code(code, result, async_=asy):\n",
      "C:\\Users\\keimp\\NHS\\Code\\experimental_modeling\\diabetes\\experimental_modeling_pipeline.py:723: FutureWarning: The pandas.np module is deprecated and will be removed from pandas in a future version. Import numpy directly instead\n",
      "  return pd.np.nan\n"
     ]
    },
    {
     "name": "stdout",
     "output_type": "stream",
     "text": [
      "Varible not convertable to datetime:  Date E11 first reported (non-insulin-dependent diabetes mellitus)    Code has event date matching participant's dat...\n",
      "Date E14 first reported (unspecified diabetes mellitus)                                                     1998-11-01\n",
      "Name: 225392, dtype: object\n",
      "Varible not convertable to datetime:  Date E10 first reported (insulin-dependent diabetes mellitus)                                               2007-05-10\n",
      "Date E11 first reported (non-insulin-dependent diabetes mellitus)    Code has event date matching participant's dat...\n",
      "Date E14 first reported (unspecified diabetes mellitus)                                                     2005-02-06\n",
      "Name: 318419, dtype: object\n",
      "Varible not convertable to datetime:  Date E11 first reported (non-insulin-dependent diabetes mellitus)    Code has event date matching participant's dat...\n",
      "Date E14 first reported (unspecified diabetes mellitus)                                                     1994-03-01\n",
      "Name: 418282, dtype: object\n",
      "Varible not convertable to datetime:  Date E10 first reported (insulin-dependent diabetes mellitus)        Code has event date matching participant's dat...\n",
      "Date E11 first reported (non-insulin-dependent diabetes mellitus)                                           2006-12-14\n",
      "Date E14 first reported (unspecified diabetes mellitus)                                                     1974-09-01\n",
      "Name: 458276, dtype: object\n"
     ]
    }
   ],
   "source": [
    "labels = dp.pre_first_occurence_labels()"
   ]
  },
  {
   "cell_type": "code",
   "execution_count": 30,
   "id": "caf69bc0-5ac6-4c49-83e8-12cccd3c1d6a",
   "metadata": {},
   "outputs": [],
   "source": [
    "df = dp.pre_blood_biomarker()"
   ]
  },
  {
   "cell_type": "code",
   "execution_count": 31,
   "id": "25993bc1-2256-4b7c-a6c7-c71482b8a332",
   "metadata": {},
   "outputs": [],
   "source": [
    "imputer = IterativeImputer(max_iter=10, random_state=0)"
   ]
  },
  {
   "cell_type": "code",
   "execution_count": 32,
   "id": "64d5be8a-b62f-4035-a91b-20fb09d71ab9",
   "metadata": {},
   "outputs": [],
   "source": [
    "imputed_values = imputer.fit_transform(df)"
   ]
  },
  {
   "cell_type": "code",
   "execution_count": 33,
   "id": "df5c75e3-407a-49e9-aa81-289032406c4a",
   "metadata": {},
   "outputs": [],
   "source": [
    "df_imputed = pd.DataFrame(imputed_values, columns=df.columns)"
   ]
  },
  {
   "cell_type": "code",
   "execution_count": 34,
   "id": "0091e03f-ce9b-426c-a022-4fa3fa5fa328",
   "metadata": {},
   "outputs": [
    {
     "name": "stdout",
     "output_type": "stream",
     "text": [
      "Number of missing values: \n",
      " Participant ID                               0\n",
      "Haemoglobin concentration | Instance 0       0\n",
      "Albumin | Instance 0                         0\n",
      "Creatinine | Instance 0                      0\n",
      "C-reactive protein | Instance 0              0\n",
      "Cholesterol | Instance 0                     0\n",
      "HDL cholesterol | Instance 0                 0\n",
      "LDL direct | Instance 0                      0\n",
      "Glucose | Instance 0                         0\n",
      "Triglycerides | Instance 0                   0\n",
      "Vitamin D | Instance 0                       0\n",
      "Glycated haemoglobin (HbA1c) | Instance 0    0\n",
      "Alanine aminotransferase | Instance 0        0\n",
      "Alkaline phosphatase | Instance 0            0\n",
      "Apolipoprotein A | Instance 0                0\n",
      "Apolipoprotein B | Instance 0                0\n",
      "Aspartate aminotransferase | Instance 0      0\n",
      "Calcium | Instance 0                         0\n",
      "Direct bilirubin | Instance 0                0\n",
      "Gamma glutamyltransferase | Instance 0       0\n",
      "IGF-1 | Instance 0                           0\n",
      "Lipoprotein A | Instance 0                   0\n",
      "Rheumatoid factor | Instance 0               0\n",
      "Phosphate | Instance 0                       0\n",
      "trigl_hdl_ratio                              0\n",
      "dtype: int64\n"
     ]
    }
   ],
   "source": [
    "print(\"Number of missing values: \\n\", df_imputed.isna().sum())"
   ]
  },
  {
   "cell_type": "code",
   "execution_count": 35,
   "id": "cf921a13-bed1-45ab-989e-f96d52994d5a",
   "metadata": {},
   "outputs": [
    {
     "name": "stdout",
     "output_type": "stream",
     "text": [
      "Dataframe dimensions:  (502364, 25)\n"
     ]
    }
   ],
   "source": [
    "print(\"Dataframe dimensions: \", df_imputed.shape)"
   ]
  },
  {
   "cell_type": "code",
   "execution_count": 36,
   "id": "8ca326c4-fab5-46b6-8baa-4d7d653e9db3",
   "metadata": {},
   "outputs": [],
   "source": [
    "df = df_imputed.merge(labels, on=\"Participant ID\")"
   ]
  },
  {
   "cell_type": "code",
   "execution_count": 37,
   "id": "f6283406-5dc4-4c9d-a584-3ab85d70c2a6",
   "metadata": {},
   "outputs": [
    {
     "data": {
      "text/html": [
       "<div>\n",
       "<style scoped>\n",
       "    .dataframe tbody tr th:only-of-type {\n",
       "        vertical-align: middle;\n",
       "    }\n",
       "\n",
       "    .dataframe tbody tr th {\n",
       "        vertical-align: top;\n",
       "    }\n",
       "\n",
       "    .dataframe thead th {\n",
       "        text-align: right;\n",
       "    }\n",
       "</style>\n",
       "<table border=\"1\" class=\"dataframe\">\n",
       "  <thead>\n",
       "    <tr style=\"text-align: right;\">\n",
       "      <th></th>\n",
       "      <th>Participant ID</th>\n",
       "      <th>Haemoglobin concentration | Instance 0</th>\n",
       "      <th>Albumin | Instance 0</th>\n",
       "      <th>Creatinine | Instance 0</th>\n",
       "      <th>C-reactive protein | Instance 0</th>\n",
       "      <th>Cholesterol | Instance 0</th>\n",
       "      <th>HDL cholesterol | Instance 0</th>\n",
       "      <th>LDL direct | Instance 0</th>\n",
       "      <th>Glucose | Instance 0</th>\n",
       "      <th>Triglycerides | Instance 0</th>\n",
       "      <th>...</th>\n",
       "      <th>Calcium | Instance 0</th>\n",
       "      <th>Direct bilirubin | Instance 0</th>\n",
       "      <th>Gamma glutamyltransferase | Instance 0</th>\n",
       "      <th>IGF-1 | Instance 0</th>\n",
       "      <th>Lipoprotein A | Instance 0</th>\n",
       "      <th>Rheumatoid factor | Instance 0</th>\n",
       "      <th>Phosphate | Instance 0</th>\n",
       "      <th>trigl_hdl_ratio</th>\n",
       "      <th>first_occurence_binary</th>\n",
       "      <th>first_occurence_tertiary</th>\n",
       "    </tr>\n",
       "  </thead>\n",
       "  <tbody>\n",
       "    <tr>\n",
       "      <th>0</th>\n",
       "      <td>5723318.0</td>\n",
       "      <td>15.50</td>\n",
       "      <td>44.53</td>\n",
       "      <td>86.3</td>\n",
       "      <td>4.83</td>\n",
       "      <td>4.453</td>\n",
       "      <td>0.807</td>\n",
       "      <td>2.716</td>\n",
       "      <td>5.347</td>\n",
       "      <td>4.649</td>\n",
       "      <td>...</td>\n",
       "      <td>2.292</td>\n",
       "      <td>1.02</td>\n",
       "      <td>27.5</td>\n",
       "      <td>17.711</td>\n",
       "      <td>49.21</td>\n",
       "      <td>25.144592</td>\n",
       "      <td>0.985</td>\n",
       "      <td>13.194669</td>\n",
       "      <td>1</td>\n",
       "      <td>1</td>\n",
       "    </tr>\n",
       "    <tr>\n",
       "      <th>1</th>\n",
       "      <td>3023357.0</td>\n",
       "      <td>15.87</td>\n",
       "      <td>49.30</td>\n",
       "      <td>76.3</td>\n",
       "      <td>0.74</td>\n",
       "      <td>6.140</td>\n",
       "      <td>0.915</td>\n",
       "      <td>4.058</td>\n",
       "      <td>5.692</td>\n",
       "      <td>3.312</td>\n",
       "      <td>...</td>\n",
       "      <td>2.529</td>\n",
       "      <td>3.53</td>\n",
       "      <td>62.5</td>\n",
       "      <td>29.138</td>\n",
       "      <td>11.80</td>\n",
       "      <td>22.651054</td>\n",
       "      <td>0.831</td>\n",
       "      <td>8.290519</td>\n",
       "      <td>1</td>\n",
       "      <td>2</td>\n",
       "    </tr>\n",
       "    <tr>\n",
       "      <th>2</th>\n",
       "      <td>1702527.0</td>\n",
       "      <td>13.98</td>\n",
       "      <td>45.28</td>\n",
       "      <td>82.7</td>\n",
       "      <td>0.68</td>\n",
       "      <td>5.050</td>\n",
       "      <td>1.222</td>\n",
       "      <td>3.180</td>\n",
       "      <td>4.620</td>\n",
       "      <td>1.239</td>\n",
       "      <td>...</td>\n",
       "      <td>2.457</td>\n",
       "      <td>1.59</td>\n",
       "      <td>19.3</td>\n",
       "      <td>10.078</td>\n",
       "      <td>7.80</td>\n",
       "      <td>24.672366</td>\n",
       "      <td>1.369</td>\n",
       "      <td>2.322269</td>\n",
       "      <td>0</td>\n",
       "      <td>0</td>\n",
       "    </tr>\n",
       "    <tr>\n",
       "      <th>3</th>\n",
       "      <td>4804571.0</td>\n",
       "      <td>13.02</td>\n",
       "      <td>49.05</td>\n",
       "      <td>64.4</td>\n",
       "      <td>2.08</td>\n",
       "      <td>5.379</td>\n",
       "      <td>2.307</td>\n",
       "      <td>2.809</td>\n",
       "      <td>5.171</td>\n",
       "      <td>0.978</td>\n",
       "      <td>...</td>\n",
       "      <td>2.522</td>\n",
       "      <td>1.23</td>\n",
       "      <td>33.8</td>\n",
       "      <td>19.787</td>\n",
       "      <td>11.40</td>\n",
       "      <td>23.516470</td>\n",
       "      <td>1.569</td>\n",
       "      <td>0.970965</td>\n",
       "      <td>0</td>\n",
       "      <td>0</td>\n",
       "    </tr>\n",
       "    <tr>\n",
       "      <th>4</th>\n",
       "      <td>5403530.0</td>\n",
       "      <td>16.07</td>\n",
       "      <td>40.26</td>\n",
       "      <td>71.2</td>\n",
       "      <td>1.93</td>\n",
       "      <td>3.241</td>\n",
       "      <td>1.032</td>\n",
       "      <td>1.836</td>\n",
       "      <td>9.307</td>\n",
       "      <td>2.060</td>\n",
       "      <td>...</td>\n",
       "      <td>2.364</td>\n",
       "      <td>4.61</td>\n",
       "      <td>285.0</td>\n",
       "      <td>9.988</td>\n",
       "      <td>47.80</td>\n",
       "      <td>25.920751</td>\n",
       "      <td>0.965</td>\n",
       "      <td>4.571934</td>\n",
       "      <td>1</td>\n",
       "      <td>1</td>\n",
       "    </tr>\n",
       "  </tbody>\n",
       "</table>\n",
       "<p>5 rows × 27 columns</p>\n",
       "</div>"
      ],
      "text/plain": [
       "   Participant ID  Haemoglobin concentration | Instance 0  \\\n",
       "0       5723318.0                                   15.50   \n",
       "1       3023357.0                                   15.87   \n",
       "2       1702527.0                                   13.98   \n",
       "3       4804571.0                                   13.02   \n",
       "4       5403530.0                                   16.07   \n",
       "\n",
       "   Albumin | Instance 0  Creatinine | Instance 0  \\\n",
       "0                 44.53                     86.3   \n",
       "1                 49.30                     76.3   \n",
       "2                 45.28                     82.7   \n",
       "3                 49.05                     64.4   \n",
       "4                 40.26                     71.2   \n",
       "\n",
       "   C-reactive protein | Instance 0  Cholesterol | Instance 0  \\\n",
       "0                             4.83                     4.453   \n",
       "1                             0.74                     6.140   \n",
       "2                             0.68                     5.050   \n",
       "3                             2.08                     5.379   \n",
       "4                             1.93                     3.241   \n",
       "\n",
       "   HDL cholesterol | Instance 0  LDL direct | Instance 0  \\\n",
       "0                         0.807                    2.716   \n",
       "1                         0.915                    4.058   \n",
       "2                         1.222                    3.180   \n",
       "3                         2.307                    2.809   \n",
       "4                         1.032                    1.836   \n",
       "\n",
       "   Glucose | Instance 0  Triglycerides | Instance 0  ...  \\\n",
       "0                 5.347                       4.649  ...   \n",
       "1                 5.692                       3.312  ...   \n",
       "2                 4.620                       1.239  ...   \n",
       "3                 5.171                       0.978  ...   \n",
       "4                 9.307                       2.060  ...   \n",
       "\n",
       "   Calcium | Instance 0  Direct bilirubin | Instance 0  \\\n",
       "0                 2.292                           1.02   \n",
       "1                 2.529                           3.53   \n",
       "2                 2.457                           1.59   \n",
       "3                 2.522                           1.23   \n",
       "4                 2.364                           4.61   \n",
       "\n",
       "   Gamma glutamyltransferase | Instance 0  IGF-1 | Instance 0  \\\n",
       "0                                    27.5              17.711   \n",
       "1                                    62.5              29.138   \n",
       "2                                    19.3              10.078   \n",
       "3                                    33.8              19.787   \n",
       "4                                   285.0               9.988   \n",
       "\n",
       "   Lipoprotein A | Instance 0  Rheumatoid factor | Instance 0  \\\n",
       "0                       49.21                       25.144592   \n",
       "1                       11.80                       22.651054   \n",
       "2                        7.80                       24.672366   \n",
       "3                       11.40                       23.516470   \n",
       "4                       47.80                       25.920751   \n",
       "\n",
       "   Phosphate | Instance 0  trigl_hdl_ratio  first_occurence_binary  \\\n",
       "0                   0.985        13.194669                       1   \n",
       "1                   0.831         8.290519                       1   \n",
       "2                   1.369         2.322269                       0   \n",
       "3                   1.569         0.970965                       0   \n",
       "4                   0.965         4.571934                       1   \n",
       "\n",
       "   first_occurence_tertiary  \n",
       "0                         1  \n",
       "1                         2  \n",
       "2                         0  \n",
       "3                         0  \n",
       "4                         1  \n",
       "\n",
       "[5 rows x 27 columns]"
      ]
     },
     "execution_count": 37,
     "metadata": {},
     "output_type": "execute_result"
    }
   ],
   "source": [
    "df.head()"
   ]
  },
  {
   "cell_type": "code",
   "execution_count": 38,
   "id": "ca2e9d2f-ca9f-47b9-9f24-739a4456fbdf",
   "metadata": {},
   "outputs": [
    {
     "name": "stdout",
     "output_type": "stream",
     "text": [
      "Number of missing values: \n",
      " Participant ID                               0\n",
      "Haemoglobin concentration | Instance 0       0\n",
      "Albumin | Instance 0                         0\n",
      "Creatinine | Instance 0                      0\n",
      "C-reactive protein | Instance 0              0\n",
      "Cholesterol | Instance 0                     0\n",
      "HDL cholesterol | Instance 0                 0\n",
      "LDL direct | Instance 0                      0\n",
      "Glucose | Instance 0                         0\n",
      "Triglycerides | Instance 0                   0\n",
      "Vitamin D | Instance 0                       0\n",
      "Glycated haemoglobin (HbA1c) | Instance 0    0\n",
      "Alanine aminotransferase | Instance 0        0\n",
      "Alkaline phosphatase | Instance 0            0\n",
      "Apolipoprotein A | Instance 0                0\n",
      "Apolipoprotein B | Instance 0                0\n",
      "Aspartate aminotransferase | Instance 0      0\n",
      "Calcium | Instance 0                         0\n",
      "Direct bilirubin | Instance 0                0\n",
      "Gamma glutamyltransferase | Instance 0       0\n",
      "IGF-1 | Instance 0                           0\n",
      "Lipoprotein A | Instance 0                   0\n",
      "Rheumatoid factor | Instance 0               0\n",
      "Phosphate | Instance 0                       0\n",
      "trigl_hdl_ratio                              0\n",
      "first_occurence_binary                       0\n",
      "first_occurence_tertiary                     0\n",
      "dtype: int64\n",
      "Dataframe dimensions:  (102850, 27)\n"
     ]
    },
    {
     "data": {
      "image/png": "[encoded data removed]",
      "text/plain": [
       "<Figure size 640x480 with 1 Axes>"
      ]
     },
     "metadata": {},
     "output_type": "display_data"
    },
    {
     "name": "stdout",
     "output_type": "stream",
     "text": [
      "F1_macro:  0.8213558013086334 0.7585817137111796 0.8244578777271875\n",
      "F1_micro:  0.8217209528439475 0.7630432668935343 0.8247544968400583\n",
      "auc:  [0.5, 0.8992241449274198, 0.8458173726008562, 0.8988332589266196]\n",
      "accuracy:  [0.5, 0.8217209528439475, 0.7630432668935343, 0.8247544968400583]\n"
     ]
    }
   ],
   "source": [
    "df2 = df.copy()\n",
    "emp.pipeline(df, \"first_occurence_binary\", df.columns[1:-2].tolist(), 0.25, multiclass=1, splits=5)"
   ]
  },
  {
   "cell_type": "code",
   "execution_count": 39,
   "id": "6d2f4dd2-6fc3-45e5-8b64-f2974fd49e1e",
   "metadata": {},
   "outputs": [
    {
     "name": "stdout",
     "output_type": "stream",
     "text": [
      "Number of missing values: \n",
      " Participant ID                               0\n",
      "Haemoglobin concentration | Instance 0       0\n",
      "Albumin | Instance 0                         0\n",
      "Creatinine | Instance 0                      0\n",
      "C-reactive protein | Instance 0              0\n",
      "Cholesterol | Instance 0                     0\n",
      "HDL cholesterol | Instance 0                 0\n",
      "LDL direct | Instance 0                      0\n",
      "Glucose | Instance 0                         0\n",
      "Triglycerides | Instance 0                   0\n",
      "Vitamin D | Instance 0                       0\n",
      "Glycated haemoglobin (HbA1c) | Instance 0    0\n",
      "Alanine aminotransferase | Instance 0        0\n",
      "Alkaline phosphatase | Instance 0            0\n",
      "Apolipoprotein A | Instance 0                0\n",
      "Apolipoprotein B | Instance 0                0\n",
      "Aspartate aminotransferase | Instance 0      0\n",
      "Calcium | Instance 0                         0\n",
      "Direct bilirubin | Instance 0                0\n",
      "Gamma glutamyltransferase | Instance 0       0\n",
      "IGF-1 | Instance 0                           0\n",
      "Lipoprotein A | Instance 0                   0\n",
      "Rheumatoid factor | Instance 0               0\n",
      "Phosphate | Instance 0                       0\n",
      "trigl_hdl_ratio                              0\n",
      "first_occurence_binary                       0\n",
      "first_occurence_tertiary                     0\n",
      "dtype: int64\n",
      "Dataframe dimensions:  (102850, 27)\n"
     ]
    },
    {
     "data": {
      "image/png": "[encoded data removed]",
      "text/plain": [
       "<Figure size 640x480 with 1 Axes>"
      ]
     },
     "metadata": {},
     "output_type": "display_data"
    },
    {
     "name": "stdout",
     "output_type": "stream",
     "text": [
      "F1_macro:  0.6873044241234021 0.6266600204544625 0.6916206529777056\n",
      "F1_micro:  0.7406319883325231 0.6854642683519688 0.7395624696159455\n",
      "auc:  [0.5, 0.8641295550762936, 0.8126314244696623, 0.8633400682106196]\n",
      "accuracy:  [0.5, 0.7406319883325231, 0.6854642683519688, 0.7395624696159455]\n"
     ]
    }
   ],
   "source": [
    "del df\n",
    "df = df2.copy()\n",
    "emp.pipeline(df, \"first_occurence_tertiary\", df.columns[1:-2].tolist(), 0.25, multiclass=1, splits=5)"
   ]
  },
  {
   "cell_type": "markdown",
   "id": "b022d856-835a-4e77-8eb2-eed8ab30d044",
   "metadata": {},
   "source": [
    "### SVM"
   ]
  },
  {
   "cell_type": "code",
   "execution_count": 42,
   "id": "c5e2ca0b-d84c-469b-96ba-1df8048d9f17",
   "metadata": {},
   "outputs": [
    {
     "ename": "NameError",
     "evalue": "name 'metrics' is not defined",
     "output_type": "error",
     "traceback": [
      "\u001b[1;31m---------------------------------------------------------------------------\u001b[0m",
      "\u001b[1;31mNameError\u001b[0m                                 Traceback (most recent call last)",
      "Cell \u001b[1;32mIn [42], line 6\u001b[0m\n\u001b[0;32m      4\u001b[0m clf\u001b[38;5;241m.\u001b[39mfit(x_train, y_train)\n\u001b[0;32m      5\u001b[0m predictions \u001b[38;5;241m=\u001b[39m clf\u001b[38;5;241m.\u001b[39mpredict(x_test) \n\u001b[1;32m----> 6\u001b[0m \u001b[38;5;28mprint\u001b[39m(metrics\u001b[38;5;241m.\u001b[39mf1_score(y_test, predictions))\n",
      "\u001b[1;31mNameError\u001b[0m: name 'metrics' is not defined"
     ]
    }
   ],
   "source": [
    "from sklearn import svm\n",
    "x_train, x_test, y_train, y_test = emp.train_test_data(df, 0.25, df.columns[1:-2].tolist(), \"first_occurence_binary\")\n",
    "clf = svm.SVC()\n",
    "clf.fit(x_train, y_train)\n",
    "predictions = clf.predict(x_test) "
   ]
  },
  {
   "cell_type": "code",
   "execution_count": 43,
   "id": "5d371c83-aca9-4a40-9563-7b2d8e5314fa",
   "metadata": {},
   "outputs": [
    {
     "name": "stdout",
     "output_type": "stream",
     "text": [
      "0.8115304852758191\n"
     ]
    }
   ],
   "source": [
    "from sklearn import metrics\n",
    "print(metrics.f1_score(y_test, predictions))"
   ]
  },
  {
   "cell_type": "markdown",
   "id": "8440a700-773e-4c3e-a9ba-3b3400ebd6b6",
   "metadata": {},
   "source": [
    "### BBM"
   ]
  },
  {
   "cell_type": "code",
   "execution_count": 52,
   "id": "bfbf695a-327f-4c7a-bb89-39fd844a4efd",
   "metadata": {},
   "outputs": [],
   "source": [
    "lr = emp.logistic_regression(x_train, y_train, 0)"
   ]
  },
  {
   "cell_type": "code",
   "execution_count": 73,
   "id": "d3792913-4659-4e8e-98ed-7bad35662640",
   "metadata": {},
   "outputs": [
    {
     "name": "stdout",
     "output_type": "stream",
     "text": [
      "Haemoglobin concentration | Instance 0  :  0.04695194344888783\n",
      "Albumin | Instance 0  :  -0.007189293474039838\n",
      "Creatinine | Instance 0  :  0.001881910206258371\n",
      "C-reactive protein | Instance 0  :  0.023639310043012812\n",
      "Cholesterol | Instance 0  :  -0.3497750555216563\n",
      "HDL cholesterol | Instance 0  :  -1.1478421140517467\n",
      "LDL direct | Instance 0  :  -0.6716546433439833\n",
      "Glucose | Instance 0  :  0.2848634714817415\n",
      "Triglycerides | Instance 0  :  0.21326440132222066\n",
      "Vitamin D | Instance 0  :  -0.008372769323424418\n",
      "Glycated haemoglobin (HbA1c) | Instance 0  :  0.2707670007497987\n",
      "Alanine aminotransferase | Instance 0  :  0.012065981237769193\n",
      "Alkaline phosphatase | Instance 0  :  0.00038621796454906606\n",
      "Apolipoprotein A | Instance 0  :  0.9394856291594438\n",
      "Apolipoprotein B | Instance 0  :  2.4468000610179\n",
      "Aspartate aminotransferase | Instance 0  :  -0.010990168674358806\n",
      "Calcium | Instance 0  :  0.929023381934626\n",
      "Direct bilirubin | Instance 0  :  0.1353399954443237\n",
      "Gamma glutamyltransferase | Instance 0  :  0.0032601095391438595\n",
      "IGF-1 | Instance 0  :  -0.013474255504013603\n",
      "Lipoprotein A | Instance 0  :  0.0009115324311316623\n",
      "Rheumatoid factor | Instance 0  :  -0.0009020839360060287\n",
      "Phosphate | Instance 0  :  -0.17829729803742703\n",
      "trigl_hdl_ratio  :  -0.01520200592369599\n"
     ]
    }
   ],
   "source": [
    "importance = lr.coef_\n",
    "# summarize feature importance\n",
    "for i,v in enumerate(importance.tolist()[0]):\n",
    "    print(x_train.columns[i], \" : \", v)\n"
   ]
  },
  {
   "cell_type": "code",
   "execution_count": 81,
   "id": "566d10e3-633f-40ad-9a09-8066d52e1493",
   "metadata": {},
   "outputs": [],
   "source": [
    "df[\"apob_apoa_ratio\"] = df[\"Apolipoprotein B | Instance 0\"] / df[\"Apolipoprotein A | Instance 0\"]"
   ]
  },
  {
   "cell_type": "code",
   "execution_count": 82,
   "id": "4173adbe-7e7d-4325-ba89-8a6e33ce1e95",
   "metadata": {},
   "outputs": [],
   "source": [
    "df = df[['Participant ID', 'Haemoglobin concentration | Instance 0',\n",
    "       'Albumin | Instance 0', 'Creatinine | Instance 0',\n",
    "       'C-reactive protein | Instance 0', 'Cholesterol | Instance 0',\n",
    "       'HDL cholesterol | Instance 0', 'LDL direct | Instance 0',\n",
    "       'Glucose | Instance 0', 'Triglycerides | Instance 0',\n",
    "       'Vitamin D | Instance 0', 'Glycated haemoglobin (HbA1c) | Instance 0',\n",
    "       'Alanine aminotransferase | Instance 0',\n",
    "       'Alkaline phosphatase | Instance 0', 'Apolipoprotein A | Instance 0',\n",
    "       'Apolipoprotein B | Instance 0',\n",
    "       'Aspartate aminotransferase | Instance 0', 'Calcium | Instance 0',\n",
    "       'Direct bilirubin | Instance 0',\n",
    "       'Gamma glutamyltransferase | Instance 0', 'IGF-1 | Instance 0',\n",
    "       'Lipoprotein A | Instance 0', 'Rheumatoid factor | Instance 0',\n",
    "       'Phosphate | Instance 0', 'trigl_hdl_ratio', 'apob_apoa_ratio','first_occurence_binary',\n",
    "       'first_occurence_tertiary']]"
   ]
  },
  {
   "cell_type": "code",
   "execution_count": 85,
   "id": "7a70ed78-58e4-4235-b3c7-e947a0ea154e",
   "metadata": {},
   "outputs": [],
   "source": [
    "x_train, x_test, y_train, y_test = emp.train_test_data(df, 0.25, df.columns[1:-2].tolist(), \"first_occurence_binary\")"
   ]
  },
  {
   "cell_type": "code",
   "execution_count": 86,
   "id": "c8366d4b-43e9-4337-8e27-1b08eac9dc57",
   "metadata": {},
   "outputs": [
    {
     "name": "stdout",
     "output_type": "stream",
     "text": [
      "Haemoglobin concentration | Instance 0  :  0.045546162081656585\n",
      "Albumin | Instance 0  :  -0.009147140509840494\n",
      "Creatinine | Instance 0  :  0.0018818104889745597\n",
      "C-reactive protein | Instance 0  :  0.023808993063255575\n",
      "Cholesterol | Instance 0  :  -0.3770167327607298\n",
      "HDL cholesterol | Instance 0  :  -1.063762197008548\n",
      "LDL direct | Instance 0  :  -0.6458640315177188\n",
      "Glucose | Instance 0  :  0.2813433576076384\n",
      "Triglycerides | Instance 0  :  0.17318806519873162\n",
      "Vitamin D | Instance 0  :  -0.008454626602634139\n",
      "Glycated haemoglobin (HbA1c) | Instance 0  :  0.2705150714497382\n",
      "Alanine aminotransferase | Instance 0  :  0.012048189553510207\n",
      "Alkaline phosphatase | Instance 0  :  0.0003397331751686429\n",
      "Apolipoprotein A | Instance 0  :  0.6379444544989209\n",
      "Apolipoprotein B | Instance 0  :  2.889288896756991\n",
      "Aspartate aminotransferase | Instance 0  :  -0.010885150870230004\n",
      "Calcium | Instance 0  :  1.0493292078418495\n",
      "Direct bilirubin | Instance 0  :  0.1295350331158532\n",
      "Gamma glutamyltransferase | Instance 0  :  0.0033155929116528066\n",
      "IGF-1 | Instance 0  :  -0.013568628030178592\n",
      "Lipoprotein A | Instance 0  :  0.0008985389910875764\n",
      "Rheumatoid factor | Instance 0  :  -0.001163166317173155\n",
      "Phosphate | Instance 0  :  -0.2163689372783777\n",
      "trigl_hdl_ratio  :  0.00583425616294937\n",
      "apob_apoa_ratio  :  -0.6098217020570845\n"
     ]
    }
   ],
   "source": [
    "lr = emp.logistic_regression(x_train, y_train, 0)\n",
    "importance = lr.coef_\n",
    "# summarize feature importance\n",
    "for i,v in enumerate(importance.tolist()[0]):\n",
    "    print(x_train.columns[i], \" : \", v)"
   ]
  },
  {
   "cell_type": "code",
   "execution_count": 87,
   "id": "0943e5e6-d5df-4749-bb23-8b703f5b72b1",
   "metadata": {},
   "outputs": [
    {
     "name": "stdout",
     "output_type": "stream",
     "text": [
      "0.814208984375\n"
     ]
    }
   ],
   "source": [
    "predictions = lr.predict(x_test) \n",
    "print(metrics.f1_score(y_test, predictions))"
   ]
  },
  {
   "cell_type": "code",
   "execution_count": 107,
   "id": "6aa6b789-9278-47b8-b862-42d3c6735deb",
   "metadata": {},
   "outputs": [],
   "source": [
    "rf = emp.random_forest(x_train, y_train)"
   ]
  },
  {
   "cell_type": "code",
   "execution_count": 92,
   "id": "79d79a58-4d5b-40ce-bfce-12a83746e6aa",
   "metadata": {},
   "outputs": [
    {
     "name": "stdout",
     "output_type": "stream",
     "text": [
      "Haemoglobin concentration | Instance 0  :  0.02075540507004997\n",
      "Albumin | Instance 0  :  0.019402750590008306\n",
      "Creatinine | Instance 0  :  0.022178295921241514\n",
      "C-reactive protein | Instance 0  :  0.030277404456371684\n",
      "Cholesterol | Instance 0  :  0.043930704703126926\n",
      "HDL cholesterol | Instance 0  :  0.04319681551785135\n",
      "LDL direct | Instance 0  :  0.040789642286994186\n",
      "Glucose | Instance 0  :  0.13183311389984068\n",
      "Triglycerides | Instance 0  :  0.0282817484312716\n",
      "Vitamin D | Instance 0  :  0.023940616117341718\n",
      "Glycated haemoglobin (HbA1c) | Instance 0  :  0.25723187681989135\n",
      "Alanine aminotransferase | Instance 0  :  0.026101528008076736\n",
      "Alkaline phosphatase | Instance 0  :  0.021783125727743186\n",
      "Apolipoprotein A | Instance 0  :  0.022003550596235988\n",
      "Apolipoprotein B | Instance 0  :  0.02203081566676214\n",
      "Aspartate aminotransferase | Instance 0  :  0.020363791976860304\n",
      "Calcium | Instance 0  :  0.02002337234291446\n",
      "Direct bilirubin | Instance 0  :  0.02026338926759911\n",
      "Gamma glutamyltransferase | Instance 0  :  0.03723269053790021\n",
      "IGF-1 | Instance 0  :  0.022918837173502554\n",
      "Lipoprotein A | Instance 0  :  0.02060763783812209\n",
      "Rheumatoid factor | Instance 0  :  0.021316930387354115\n",
      "Phosphate | Instance 0  :  0.020234690024916024\n",
      "trigl_hdl_ratio  :  0.04445930885575725\n",
      "apob_apoa_ratio  :  0.01884195778226666\n"
     ]
    }
   ],
   "source": [
    "importance = rf.feature_importances_\n",
    "# summarize feature importance\n",
    "for i,v in enumerate(importance.tolist()):\n",
    "    print(x_train.columns[i], \" : \", v)"
   ]
  },
  {
   "cell_type": "code",
   "execution_count": 108,
   "id": "fd9fa0ed-4f64-40f8-90dc-5a1643658bb7",
   "metadata": {},
   "outputs": [
    {
     "name": "stdout",
     "output_type": "stream",
     "text": [
      "0.8176289328576062\n"
     ]
    },
    {
     "data": {
      "text/plain": [
       "0.8251739412155465"
      ]
     },
     "execution_count": 108,
     "metadata": {},
     "output_type": "execute_result"
    }
   ],
   "source": [
    "predictions = rf.predict(x_test) \n",
    "print(metrics.f1_score(y_test, predictions))\n",
    "metrics.roc_auc_score(y_test, predictions)"
   ]
  },
  {
   "cell_type": "code",
   "execution_count": 102,
   "id": "621a6e1f-d418-49f2-ad1e-9019b9c54ce1",
   "metadata": {},
   "outputs": [
    {
     "ename": "NameError",
     "evalue": "name 'X_test' is not defined",
     "output_type": "error",
     "traceback": [
      "\u001b[1;31m---------------------------------------------------------------------------\u001b[0m",
      "\u001b[1;31mNameError\u001b[0m                                 Traceback (most recent call last)",
      "Cell \u001b[1;32mIn [102], line 11\u001b[0m\n\u001b[0;32m      9\u001b[0m reg \u001b[38;5;241m=\u001b[39m StackingRegressor(estimators\u001b[38;5;241m=\u001b[39mest, final_estimator\u001b[38;5;241m=\u001b[39mfinal_estimator)\n\u001b[0;32m     10\u001b[0m reg\u001b[38;5;241m.\u001b[39mfit(x_train, y_train)\n\u001b[1;32m---> 11\u001b[0m y_pred \u001b[38;5;241m=\u001b[39m reg\u001b[38;5;241m.\u001b[39mpredict(X_test)\n\u001b[0;32m     12\u001b[0m \u001b[38;5;28mprint\u001b[39m(metrics\u001b[38;5;241m.\u001b[39mf1_score(y_test, y_pred))\n",
      "\u001b[1;31mNameError\u001b[0m: name 'X_test' is not defined"
     ]
    }
   ],
   "source": [
    "from sklearn.linear_model import LogisticRegression\n",
    "from sklearn.ensemble import RandomForestRegressor\n",
    "from sklearn.ensemble import GradientBoostingRegressor\n",
    "from sklearn.ensemble import StackingRegressor\n",
    "from sklearn.svm import SVR\n",
    "\n",
    "est = [(\"rf\", RandomForestRegressor()), (\"lr\",SVR() )]\n",
    "final_estimator = GradientBoostingRegressor( n_estimators=25, subsample=0.5, min_samples_leaf=25, max_features=1,random_state=42)\n",
    "reg = StackingRegressor(estimators=est, final_estimator=final_estimator)\n",
    "reg.fit(x_train, y_train)"
   ]
  },
  {
   "cell_type": "code",
   "execution_count": 104,
   "id": "aa766fce-6a0e-4b05-9696-eadf5a26b9a4",
   "metadata": {},
   "outputs": [
    {
     "data": {
      "text/plain": [
       "0.8643962529781244"
      ]
     },
     "execution_count": 104,
     "metadata": {},
     "output_type": "execute_result"
    }
   ],
   "source": [
    "metrics.roc_auc_score(y_test, predictions)"
   ]
  },
  {
   "cell_type": "markdown",
   "id": "26a58ff6-8d24-4b79-962a-4d46607d6835",
   "metadata": {},
   "source": [
    "### GFR"
   ]
  },
  {
   "cell_type": "code",
   "execution_count": 110,
   "id": "24ea057f-4b38-4c98-a186-8ce60db9a161",
   "metadata": {},
   "outputs": [],
   "source": [
    "dem_basic = dp.pre_demographics_basic()"
   ]
  },
  {
   "cell_type": "code",
   "execution_count": 112,
   "id": "9d7b88e7-d78f-4b59-8efc-d1f5c874f8b2",
   "metadata": {},
   "outputs": [],
   "source": [
    "dem_eth = dp.pre_demographics_ethnicity()"
   ]
  },
  {
   "cell_type": "code",
   "execution_count": 114,
   "id": "f314a7b9-9a2b-4b5b-87c9-92c3065e43e8",
   "metadata": {},
   "outputs": [],
   "source": [
    "dem = dem_basic.merge(dem_eth, on=\"Participant ID\")"
   ]
  },
  {
   "cell_type": "code",
   "execution_count": 117,
   "id": "813da7e9-76c6-4e67-8b2d-6c04dced895f",
   "metadata": {},
   "outputs": [],
   "source": [
    "df = df.merge(dem, on=\"Participant ID\")"
   ]
  },
  {
   "cell_type": "code",
   "execution_count": 118,
   "id": "d612aed2-69cd-40dc-b029-9adc28fb32a6",
   "metadata": {},
   "outputs": [
    {
     "name": "stdout",
     "output_type": "stream",
     "text": [
      "Number of missing values: \n",
      " Participant ID                               0\n",
      "Haemoglobin concentration | Instance 0       0\n",
      "Albumin | Instance 0                         0\n",
      "Creatinine | Instance 0                      0\n",
      "C-reactive protein | Instance 0              0\n",
      "Cholesterol | Instance 0                     0\n",
      "HDL cholesterol | Instance 0                 0\n",
      "LDL direct | Instance 0                      0\n",
      "Glucose | Instance 0                         0\n",
      "Triglycerides | Instance 0                   0\n",
      "Vitamin D | Instance 0                       0\n",
      "Glycated haemoglobin (HbA1c) | Instance 0    0\n",
      "Alanine aminotransferase | Instance 0        0\n",
      "Alkaline phosphatase | Instance 0            0\n",
      "Apolipoprotein A | Instance 0                0\n",
      "Apolipoprotein B | Instance 0                0\n",
      "Aspartate aminotransferase | Instance 0      0\n",
      "Calcium | Instance 0                         0\n",
      "Direct bilirubin | Instance 0                0\n",
      "Gamma glutamyltransferase | Instance 0       0\n",
      "IGF-1 | Instance 0                           0\n",
      "Lipoprotein A | Instance 0                   0\n",
      "Rheumatoid factor | Instance 0               0\n",
      "Phosphate | Instance 0                       0\n",
      "trigl_hdl_ratio                              0\n",
      "apob_apoa_ratio                              0\n",
      "first_occurence_binary                       0\n",
      "first_occurence_tertiary                     0\n",
      "Age at recruitment                           0\n",
      "Sex_binary                                   0\n",
      "Asian                                        0\n",
      "Black                                        0\n",
      "Chinese                                      0\n",
      "Mixed                                        0\n",
      "Other                                        0\n",
      "White                                        0\n",
      "dtype: int64\n"
     ]
    }
   ],
   "source": [
    "print(\"Number of missing values: \\n\", df.isna().sum())"
   ]
  },
  {
   "cell_type": "code",
   "execution_count": 120,
   "id": "a17fb7c4-1a64-4e0d-bfb2-6b0fe2a90648",
   "metadata": {},
   "outputs": [],
   "source": [
    "df = df[['Participant ID', 'Haemoglobin concentration | Instance 0',\n",
    "       'Albumin | Instance 0', 'Creatinine | Instance 0',\n",
    "       'C-reactive protein | Instance 0', 'Cholesterol | Instance 0',\n",
    "       'HDL cholesterol | Instance 0', 'LDL direct | Instance 0',\n",
    "       'Glucose | Instance 0', 'Triglycerides | Instance 0',\n",
    "       'Vitamin D | Instance 0', 'Glycated haemoglobin (HbA1c) | Instance 0',\n",
    "       'Alanine aminotransferase | Instance 0',\n",
    "       'Alkaline phosphatase | Instance 0', 'Apolipoprotein A | Instance 0',\n",
    "       'Apolipoprotein B | Instance 0',\n",
    "       'Aspartate aminotransferase | Instance 0', 'Calcium | Instance 0',\n",
    "       'Direct bilirubin | Instance 0',\n",
    "       'Gamma glutamyltransferase | Instance 0', 'IGF-1 | Instance 0',\n",
    "       'Lipoprotein A | Instance 0', 'Rheumatoid factor | Instance 0',\n",
    "       'Phosphate | Instance 0', 'trigl_hdl_ratio', 'apob_apoa_ratio',\n",
    "       'Age at recruitment', 'Sex_binary', 'Asian', 'Black', 'Chinese',\n",
    "       'Mixed', 'Other', 'White', 'first_occurence_binary', 'first_occurence_tertiary']]"
   ]
  },
  {
   "cell_type": "code",
   "execution_count": 130,
   "id": "6a97c63e-48cb-41f9-95d3-bf0f43b3ce08",
   "metadata": {},
   "outputs": [
    {
     "data": {
      "text/plain": [
       "'Black'"
      ]
     },
     "execution_count": 130,
     "metadata": {},
     "output_type": "execute_result"
    }
   ],
   "source": [
    "df.columns.tolist()[29]"
   ]
  },
  {
   "cell_type": "code",
   "execution_count": 131,
   "id": "665bade7-b9f2-4283-bf74-1021758ccf11",
   "metadata": {},
   "outputs": [],
   "source": [
    "#0for female, 1 for male\n",
    "def gfr(l):\n",
    "    gfr = 175 * (l[3]**-1.154) * (l[26] ** -0.203) \n",
    "    if l[27] == 0:\n",
    "        gfr = gfr*0.742\n",
    "    if l[29] == 1:\n",
    "        gfr = gfr*1.212\n",
    "    return gfr\n",
    "\n",
    "df[\"gfr\"] = df.apply(gfr, axis=1)\n",
    "    "
   ]
  },
  {
   "cell_type": "code",
   "execution_count": 132,
   "id": "e7883504-cd4d-4ab3-b9de-fbdc2463dcfd",
   "metadata": {},
   "outputs": [
    {
     "data": {
      "text/plain": [
       "0    0.440165\n",
       "1    0.536183\n",
       "2    0.473538\n",
       "3    0.465599\n",
       "4    0.558856\n",
       "Name: gfr, dtype: float64"
      ]
     },
     "execution_count": 132,
     "metadata": {},
     "output_type": "execute_result"
    }
   ],
   "source": [
    "df[\"gfr\"].head()"
   ]
  },
  {
   "cell_type": "code",
   "execution_count": 133,
   "id": "777bdc7f-84ce-4a35-a02a-03927c8e724a",
   "metadata": {},
   "outputs": [],
   "source": [
    "df = df[['Participant ID', 'Haemoglobin concentration | Instance 0',\n",
    "       'Albumin | Instance 0', 'Creatinine | Instance 0',\n",
    "       'C-reactive protein | Instance 0', 'Cholesterol | Instance 0',\n",
    "       'HDL cholesterol | Instance 0', 'LDL direct | Instance 0',\n",
    "       'Glucose | Instance 0', 'Triglycerides | Instance 0',\n",
    "       'Vitamin D | Instance 0', 'Glycated haemoglobin (HbA1c) | Instance 0',\n",
    "       'Alanine aminotransferase | Instance 0',\n",
    "       'Alkaline phosphatase | Instance 0', 'Apolipoprotein A | Instance 0',\n",
    "       'Apolipoprotein B | Instance 0',\n",
    "       'Aspartate aminotransferase | Instance 0', 'Calcium | Instance 0',\n",
    "       'Direct bilirubin | Instance 0',\n",
    "       'Gamma glutamyltransferase | Instance 0', 'IGF-1 | Instance 0',\n",
    "       'Lipoprotein A | Instance 0', 'Rheumatoid factor | Instance 0',\n",
    "       'Phosphate | Instance 0', 'trigl_hdl_ratio', 'apob_apoa_ratio',\n",
    "       'Age at recruitment', 'Sex_binary', 'Asian', 'Black', 'Chinese',\n",
    "       'Mixed', 'Other', 'White', \"gfr\",'first_occurence_binary', 'first_occurence_tertiary']]"
   ]
  },
  {
   "cell_type": "code",
   "execution_count": 134,
   "id": "f9d36a8c-266c-4021-853b-cd84f2c058d8",
   "metadata": {},
   "outputs": [],
   "source": [
    "x_train, x_test, y_train, y_test = emp.train_test_data(df, 0.25, df.columns[1:-2].tolist(), \"first_occurence_binary\")"
   ]
  },
  {
   "cell_type": "code",
   "execution_count": 135,
   "id": "9910422b-667a-433a-a2ed-155d403618a4",
   "metadata": {},
   "outputs": [
    {
     "name": "stdout",
     "output_type": "stream",
     "text": [
      "Haemoglobin concentration | Instance 0  :  0.0604280577492401\n",
      "Albumin | Instance 0  :  -0.0009480107030012852\n",
      "Creatinine | Instance 0  :  0.007585365880831427\n",
      "C-reactive protein | Instance 0  :  0.02652268075340238\n",
      "Cholesterol | Instance 0  :  -0.361970154581209\n",
      "HDL cholesterol | Instance 0  :  -1.1437878507861108\n",
      "LDL direct | Instance 0  :  -0.569033847304205\n",
      "Glucose | Instance 0  :  0.27911419977255186\n",
      "Triglycerides | Instance 0  :  0.19796328036481545\n",
      "Vitamin D | Instance 0  :  -0.007117313341427613\n",
      "Glycated haemoglobin (HbA1c) | Instance 0  :  0.2586102435283654\n",
      "Alanine aminotransferase | Instance 0  :  0.015385301626011032\n",
      "Alkaline phosphatase | Instance 0  :  -0.0005772184258048213\n",
      "Apolipoprotein A | Instance 0  :  0.6593648200118815\n",
      "Apolipoprotein B | Instance 0  :  2.4842635207821044\n",
      "Aspartate aminotransferase | Instance 0  :  -0.013864111550169296\n",
      "Calcium | Instance 0  :  0.7804450141254717\n",
      "Direct bilirubin | Instance 0  :  0.13012791778661578\n",
      "Gamma glutamyltransferase | Instance 0  :  0.0034607370025716224\n",
      "IGF-1 | Instance 0  :  -0.009515403378627241\n",
      "Lipoprotein A | Instance 0  :  0.0006006941527816219\n",
      "Rheumatoid factor | Instance 0  :  -0.0022134517296650232\n",
      "Phosphate | Instance 0  :  -0.2609227539203118\n",
      "trigl_hdl_ratio  :  -0.001955205059144162\n",
      "apob_apoa_ratio  :  -0.46337820999321844\n",
      "Age at recruitment  :  0.02459308707347099\n",
      "Sex_binary  :  -0.2127077790293891\n",
      "Asian  :  -0.02652126789429158\n",
      "Black  :  0.06924232978239021\n",
      "Chinese  :  -0.5628724153022139\n",
      "Mixed  :  -0.5642268294703159\n",
      "Other  :  -0.1064590846136144\n",
      "White  :  -0.7881132590634703\n",
      "gfr  :  1.483209821413972\n"
     ]
    }
   ],
   "source": [
    "lr = emp.logistic_regression(x_train, y_train, 0)\n",
    "importance = lr.coef_\n",
    "# summarize feature importance\n",
    "for i,v in enumerate(importance.tolist()[0]):\n",
    "    print(x_train.columns[i], \" : \", v)"
   ]
  },
  {
   "cell_type": "code",
   "execution_count": 136,
   "id": "cc219036-03fe-47cd-aa39-6f33c6615ba3",
   "metadata": {},
   "outputs": [
    {
     "name": "stdout",
     "output_type": "stream",
     "text": [
      "0.8153621305618707\n"
     ]
    },
    {
     "data": {
      "text/plain": [
       "0.823232437082775"
      ]
     },
     "execution_count": 136,
     "metadata": {},
     "output_type": "execute_result"
    }
   ],
   "source": [
    "predictions = lr.predict(x_test) \n",
    "print(metrics.f1_score(y_test, predictions))\n",
    "metrics.roc_auc_score(y_test, predictions)"
   ]
  },
  {
   "cell_type": "code",
   "execution_count": 141,
   "id": "042081c2-9ed7-4ce9-9ef1-ce96a3211f1d",
   "metadata": {},
   "outputs": [],
   "source": [
    "res = dict(zip(x_train.columns,importance.tolist()[0]))"
   ]
  },
  {
   "cell_type": "code",
   "execution_count": 143,
   "id": "a1e59d2b-8d6b-4c02-bc0b-ea8b815bbd79",
   "metadata": {},
   "outputs": [],
   "source": [
    "res_col = []\n",
    "for i in res:\n",
    "    if abs(res[i]) > 0.5:\n",
    "        res_col.append(i)"
   ]
  },
  {
   "cell_type": "code",
   "execution_count": 145,
   "id": "601ba79a-ec6c-4bcd-88b8-d27de3e4c18e",
   "metadata": {},
   "outputs": [],
   "source": [
    "x_train, x_test, y_train, y_test = emp.train_test_data(df, 0.25, res_col, \"first_occurence_binary\")"
   ]
  },
  {
   "cell_type": "code",
   "execution_count": 146,
   "id": "b65a293c-26c6-4137-82f2-0d52a6bf51d8",
   "metadata": {},
   "outputs": [
    {
     "name": "stdout",
     "output_type": "stream",
     "text": [
      "HDL cholesterol | Instance 0  :  -3.2211738169609414\n",
      "LDL direct | Instance 0  :  -2.204484138510424\n",
      "Apolipoprotein A | Instance 0  :  2.6487354076150726\n",
      "Apolipoprotein B | Instance 0  :  6.083191290890029\n",
      "Calcium | Instance 0  :  2.2425581609321275\n",
      "Chinese  :  -0.6253867046407344\n",
      "Mixed  :  -0.754669822005024\n",
      "White  :  -1.0161796069563178\n",
      "gfr  :  0.38637506725709053\n"
     ]
    }
   ],
   "source": [
    "lr = emp.logistic_regression(x_train, y_train, 0)\n",
    "importance = lr.coef_\n",
    "# summarize feature importance\n",
    "for i,v in enumerate(importance.tolist()[0]):\n",
    "    print(x_train.columns[i], \" : \", v)"
   ]
  },
  {
   "cell_type": "code",
   "execution_count": 147,
   "id": "4d77d14d-ef04-493d-bd1c-f7ead5abc659",
   "metadata": {},
   "outputs": [
    {
     "name": "stdout",
     "output_type": "stream",
     "text": [
      "0.693983893889152\n"
     ]
    },
    {
     "data": {
      "text/plain": [
       "0.6985587572282662"
      ]
     },
     "execution_count": 147,
     "metadata": {},
     "output_type": "execute_result"
    }
   ],
   "source": [
    "predictions = lr.predict(x_test) \n",
    "print(metrics.f1_score(y_test, predictions))\n",
    "metrics.roc_auc_score(y_test, predictions)"
   ]
  },
  {
   "cell_type": "markdown",
   "id": "565fb35e-77db-44e0-80d3-b5e4f25beaa6",
   "metadata": {},
   "source": [
    "### Other gfr(CKD-EPI)"
   ]
  },
  {
   "cell_type": "code",
   "execution_count": 152,
   "id": "1fa88338-150f-4013-853b-5745df539b52",
   "metadata": {},
   "outputs": [],
   "source": [
    "def gfr_CKD_EPI(l):\n",
    "    if l[27] == 0:\n",
    "        m = (l[3] / 0.7) ** -0.329\n",
    "    elif l[27] == 1:\n",
    "        m = (l[3] / 0.9) ** -0.411 \n",
    "    m = 141 * m * (1 ** -1.209) \n",
    "    m = m* (0.993 ** l[26])\n",
    "    if l[27] == 0:\n",
    "        m = m * 1.018\n",
    "    if l[29] == 1:\n",
    "        m = m * 1.159\n",
    "    return m\n",
    "df[\"CKD-EPI\"] = df.apply(gfr_CKD_EPI, axis=1)"
   ]
  },
  {
   "cell_type": "code",
   "execution_count": 156,
   "id": "d5b60c23-41d7-4545-b77e-71c19d4d96c9",
   "metadata": {},
   "outputs": [],
   "source": [
    "df = df[['Participant ID', 'Haemoglobin concentration | Instance 0',\n",
    "       'Albumin | Instance 0', 'Creatinine | Instance 0',\n",
    "       'C-reactive protein | Instance 0', 'Cholesterol | Instance 0',\n",
    "       'HDL cholesterol | Instance 0', 'LDL direct | Instance 0',\n",
    "       'Glucose | Instance 0', 'Triglycerides | Instance 0',\n",
    "       'Vitamin D | Instance 0', 'Glycated haemoglobin (HbA1c) | Instance 0',\n",
    "       'Alanine aminotransferase | Instance 0',\n",
    "       'Alkaline phosphatase | Instance 0', 'Apolipoprotein A | Instance 0',\n",
    "       'Apolipoprotein B | Instance 0',\n",
    "       'Aspartate aminotransferase | Instance 0', 'Calcium | Instance 0',\n",
    "       'Direct bilirubin | Instance 0',\n",
    "       'Gamma glutamyltransferase | Instance 0', 'IGF-1 | Instance 0',\n",
    "       'Lipoprotein A | Instance 0', 'Rheumatoid factor | Instance 0',\n",
    "       'Phosphate | Instance 0', 'trigl_hdl_ratio', 'apob_apoa_ratio',\n",
    "       'Age at recruitment', 'Sex_binary', 'Asian', 'Black', 'Chinese',\n",
    "       'Mixed', 'Other', 'White', 'CKD-EPI', 'gfr', 'first_occurence_binary',\n",
    "       'first_occurence_tertiary']]"
   ]
  },
  {
   "cell_type": "code",
   "execution_count": 157,
   "id": "87fff15c-b2a8-48a0-b4b8-088bcd06f5f3",
   "metadata": {},
   "outputs": [],
   "source": [
    "x_train, x_test, y_train, y_test = emp.train_test_data(df, 0.25, df.columns[1:-3].tolist(), \"first_occurence_binary\")"
   ]
  },
  {
   "cell_type": "code",
   "execution_count": 158,
   "id": "7dedcd9f-0d64-4ba0-acab-cbd4e050b207",
   "metadata": {},
   "outputs": [
    {
     "name": "stdout",
     "output_type": "stream",
     "text": [
      "Haemoglobin concentration | Instance 0  :  0.06437726108194777\n",
      "Albumin | Instance 0  :  -0.0010942538437974665\n",
      "Creatinine | Instance 0  :  0.007924913532063099\n",
      "C-reactive protein | Instance 0  :  0.026703541457024912\n",
      "Cholesterol | Instance 0  :  -0.34416448025216334\n",
      "HDL cholesterol | Instance 0  :  -1.1503908440943946\n",
      "LDL direct | Instance 0  :  -0.5250330960100824\n",
      "Glucose | Instance 0  :  0.2795664530998164\n",
      "Triglycerides | Instance 0  :  0.1987537259310417\n",
      "Vitamin D | Instance 0  :  -0.007222764732238263\n",
      "Glycated haemoglobin (HbA1c) | Instance 0  :  0.25908992567747924\n",
      "Alanine aminotransferase | Instance 0  :  0.01549139039128619\n",
      "Alkaline phosphatase | Instance 0  :  -0.0005338354608501659\n",
      "Apolipoprotein A | Instance 0  :  0.7120817206053693\n",
      "Apolipoprotein B | Instance 0  :  2.1176689873687\n",
      "Aspartate aminotransferase | Instance 0  :  -0.01383737449805901\n",
      "Calcium | Instance 0  :  0.8670368415422613\n",
      "Direct bilirubin | Instance 0  :  0.12768446550231463\n",
      "Gamma glutamyltransferase | Instance 0  :  0.003489789150185153\n",
      "IGF-1 | Instance 0  :  -0.009936828881807802\n",
      "Lipoprotein A | Instance 0  :  0.0006081889976747649\n",
      "Rheumatoid factor | Instance 0  :  -0.0020653861032219278\n",
      "Phosphate | Instance 0  :  -0.25648849977463356\n",
      "trigl_hdl_ratio  :  -0.0027107819663339575\n",
      "apob_apoa_ratio  :  -0.2813608421857406\n",
      "Age at recruitment  :  0.0378893847071284\n",
      "Sex_binary  :  0.6435051746401457\n",
      "Asian  :  0.0042164230172103525\n",
      "Black  :  -0.1641271495724324\n",
      "Chinese  :  -0.5602627809716617\n",
      "Mixed  :  -0.5552160436153634\n",
      "Other  :  -0.09298469876992713\n",
      "White  :  -0.7778033224520732\n",
      "CKD-EPI  :  0.12258777000821042\n"
     ]
    }
   ],
   "source": [
    "lr = emp.logistic_regression(x_train, y_train, 0)\n",
    "importance = lr.coef_\n",
    "# summarize feature importance\n",
    "for i,v in enumerate(importance.tolist()[0]):\n",
    "    print(x_train.columns[i], \" : \", v)"
   ]
  },
  {
   "cell_type": "code",
   "execution_count": 159,
   "id": "0016d116-51e0-4d35-8e46-f5e076af5584",
   "metadata": {},
   "outputs": [
    {
     "name": "stdout",
     "output_type": "stream",
     "text": [
      "0.8154339270499452\n"
     ]
    },
    {
     "data": {
      "text/plain": [
       "0.8231921166977033"
      ]
     },
     "execution_count": 159,
     "metadata": {},
     "output_type": "execute_result"
    }
   ],
   "source": [
    "predictions = lr.predict(x_test) \n",
    "print(metrics.f1_score(y_test, predictions))\n",
    "metrics.roc_auc_score(y_test, predictions)"
   ]
  },
  {
   "cell_type": "code",
   "execution_count": 160,
   "id": "37244cdd-2708-4aa3-8339-2e0f98f69f8b",
   "metadata": {},
   "outputs": [],
   "source": [
    "x_train, x_test, y_train, y_test = emp.train_test_data(df, 0.25, df.columns[1:-2].tolist(), \"first_occurence_binary\")"
   ]
  },
  {
   "cell_type": "code",
   "execution_count": 161,
   "id": "4e892ba9-e299-4afa-8a28-47daaf1798d7",
   "metadata": {},
   "outputs": [
    {
     "name": "stdout",
     "output_type": "stream",
     "text": [
      "Haemoglobin concentration | Instance 0  :  0.06626015118665572\n",
      "Albumin | Instance 0  :  0.0006570502484917363\n",
      "Creatinine | Instance 0  :  0.010090027333319358\n",
      "C-reactive protein | Instance 0  :  0.0268019875391828\n",
      "Cholesterol | Instance 0  :  -0.40110436954492146\n",
      "HDL cholesterol | Instance 0  :  -1.0603747982692493\n",
      "LDL direct | Instance 0  :  -0.4938076147575984\n",
      "Glucose | Instance 0  :  0.2803190399737359\n",
      "Triglycerides | Instance 0  :  0.21253290826789828\n",
      "Vitamin D | Instance 0  :  -0.007103417214812892\n",
      "Glycated haemoglobin (HbA1c) | Instance 0  :  0.2596134173393986\n",
      "Alanine aminotransferase | Instance 0  :  0.0153406629897471\n",
      "Alkaline phosphatase | Instance 0  :  -0.0005780935863643683\n",
      "Apolipoprotein A | Instance 0  :  0.7045023762874512\n",
      "Apolipoprotein B | Instance 0  :  2.201940469174482\n",
      "Aspartate aminotransferase | Instance 0  :  -0.013771006735602918\n",
      "Calcium | Instance 0  :  0.8507414528867762\n",
      "Direct bilirubin | Instance 0  :  0.12955741431084375\n",
      "Gamma glutamyltransferase | Instance 0  :  0.00344991413160702\n",
      "IGF-1 | Instance 0  :  -0.009638800876365362\n",
      "Lipoprotein A | Instance 0  :  0.0006219478526329851\n",
      "Rheumatoid factor | Instance 0  :  -0.001847673331246842\n",
      "Phosphate | Instance 0  :  -0.25643846500739303\n",
      "trigl_hdl_ratio  :  -0.004024851164394989\n",
      "apob_apoa_ratio  :  -0.21585567727670296\n",
      "Age at recruitment  :  0.0320375551709925\n",
      "Sex_binary  :  0.1444634004337024\n",
      "Asian  :  -0.00154110627501362\n",
      "Black  :  -0.07439649322648569\n",
      "Chinese  :  -0.5975767892032408\n",
      "Mixed  :  -0.5824314472667096\n",
      "Other  :  -0.0702971660880762\n",
      "White  :  -0.7694753785702539\n",
      "CKD-EPI  :  0.05838437285267105\n",
      "gfr  :  1.2183673206164622\n"
     ]
    }
   ],
   "source": [
    "lr = emp.logistic_regression(x_train, y_train, 0)\n",
    "importance = lr.coef_\n",
    "# summarize feature importance\n",
    "for i,v in enumerate(importance.tolist()[0]):\n",
    "    print(x_train.columns[i], \" : \", v)"
   ]
  },
  {
   "cell_type": "code",
   "execution_count": 162,
   "id": "9b559d75-d090-4edd-a422-901f0ff23dbe",
   "metadata": {},
   "outputs": [
    {
     "name": "stdout",
     "output_type": "stream",
     "text": [
      "0.8146012668507391\n"
     ]
    },
    {
     "data": {
      "text/plain": [
       "0.8225327790301328"
      ]
     },
     "execution_count": 162,
     "metadata": {},
     "output_type": "execute_result"
    }
   ],
   "source": [
    "predictions = lr.predict(x_test) \n",
    "print(metrics.f1_score(y_test, predictions))\n",
    "metrics.roc_auc_score(y_test, predictions)"
   ]
  },
  {
   "cell_type": "code",
   "execution_count": 164,
   "id": "55de853f-ceeb-4c7c-bf12-2c4bc9d0b698",
   "metadata": {},
   "outputs": [],
   "source": [
    "df = df.drop(\"CKD-EPI\", axis=1)"
   ]
  },
  {
   "cell_type": "code",
   "execution_count": 166,
   "id": "ec8f087c-92d9-4039-babf-8a471d52a30e",
   "metadata": {},
   "outputs": [
    {
     "name": "stdout",
     "output_type": "stream",
     "text": [
      "0.8189122622844913\n"
     ]
    },
    {
     "data": {
      "text/plain": [
       "0.8256697104337504"
      ]
     },
     "execution_count": 166,
     "metadata": {},
     "output_type": "execute_result"
    }
   ],
   "source": [
    "x_train, x_test, y_train, y_test = emp.train_test_data(df, 0.25, df.columns[1:-2].tolist(), \"first_occurence_binary\")\n",
    "rf = emp.random_forest(x_train, y_train)\n",
    "predictions = rf.predict(x_test) \n",
    "print(metrics.f1_score(y_test, predictions))\n",
    "metrics.roc_auc_score(y_test, predictions)"
   ]
  },
  {
   "cell_type": "code",
   "execution_count": 167,
   "id": "943b6324-66ac-45a0-acc7-c84b3b8e10f0",
   "metadata": {},
   "outputs": [
    {
     "name": "stdout",
     "output_type": "stream",
     "text": [
      "Haemoglobin concentration | Instance 0  :  0.019404111338518902\n",
      "Albumin | Instance 0  :  0.018300381342995005\n",
      "Creatinine | Instance 0  :  0.018613226176508093\n",
      "C-reactive protein | Instance 0  :  0.030729648656908342\n",
      "Cholesterol | Instance 0  :  0.048007056989184636\n",
      "HDL cholesterol | Instance 0  :  0.03850060127340084\n",
      "LDL direct | Instance 0  :  0.034783320810445974\n",
      "Glucose | Instance 0  :  0.11164960533932772\n",
      "Triglycerides | Instance 0  :  0.03060765368641859\n",
      "Vitamin D | Instance 0  :  0.023472288230463906\n",
      "Glycated haemoglobin (HbA1c) | Instance 0  :  0.2511292635737478\n",
      "Alanine aminotransferase | Instance 0  :  0.0257196416702075\n",
      "Alkaline phosphatase | Instance 0  :  0.020087901934690382\n",
      "Apolipoprotein A | Instance 0  :  0.023126899259233374\n",
      "Apolipoprotein B | Instance 0  :  0.022545753600065815\n",
      "Aspartate aminotransferase | Instance 0  :  0.019262210005054542\n",
      "Calcium | Instance 0  :  0.018973739482564502\n",
      "Direct bilirubin | Instance 0  :  0.01895689446233843\n",
      "Gamma glutamyltransferase | Instance 0  :  0.03693372235794921\n",
      "IGF-1 | Instance 0  :  0.02230009261103515\n",
      "Lipoprotein A | Instance 0  :  0.01843606619397619\n",
      "Rheumatoid factor | Instance 0  :  0.019395565147543693\n",
      "Phosphate | Instance 0  :  0.018559127428532232\n",
      "trigl_hdl_ratio  :  0.03581390037407114\n",
      "apob_apoa_ratio  :  0.018846130866835446\n",
      "Age at recruitment  :  0.02227474083942714\n",
      "Sex_binary  :  0.003135081035489985\n",
      "Asian  :  0.0014423356154525445\n",
      "Black  :  0.001390868049734877\n",
      "Chinese  :  0.00019576741920358023\n",
      "Mixed  :  0.00032899708596337166\n",
      "Other  :  0.0005949367302780107\n",
      "White  :  0.00550059594704556\n",
      "gfr  :  0.02098187446538763\n"
     ]
    }
   ],
   "source": [
    "importance = rf.feature_importances_\n",
    "# summarize feature importance\n",
    "for i,v in enumerate(importance.tolist()):\n",
    "    print(x_train.columns[i], \" : \", v)"
   ]
  },
  {
   "cell_type": "markdown",
   "id": "8fd258ba-d8dc-42c6-8f6c-6d732220ad08",
   "metadata": {},
   "source": [
    "### White bloodcell"
   ]
  },
  {
   "cell_type": "code",
   "execution_count": 168,
   "id": "ec4d5aea-6f78-495c-8486-01d830cfbb9a",
   "metadata": {},
   "outputs": [],
   "source": [
    "wb = pd.read_csv(\"C:/Users/keimp/NHS/Data_files/Separate_files/coding_option_replace/Blood_biomarkers_3.csv\")"
   ]
  },
  {
   "cell_type": "code",
   "execution_count": 170,
   "id": "8bf5082c-e316-4577-bc97-cbb491232021",
   "metadata": {},
   "outputs": [
    {
     "name": "stdout",
     "output_type": "stream",
     "text": [
      "Number of missing values: \n",
      " Participant ID                                          0\n",
      "Eosinophill count | Instance 0                      25212\n",
      "Eosinophill count | Instance 1                     482966\n",
      "Eosinophill count | Instance 2                     496509\n",
      "Eosinophill percentage | Instance 0                 25206\n",
      "Eosinophill percentage | Instance 1                482965\n",
      "Eosinophill percentage | Instance 2                496509\n",
      "White blood cell (leukocyte) count | Instance 0     24328\n",
      "White blood cell (leukocyte) count | Instance 1    482955\n",
      "White blood cell (leukocyte) count | Instance 2    496502\n",
      "Neutrophill count | Instance 0                      25212\n",
      "Neutrophill count | Instance 1                     482966\n",
      "Neutrophill count | Instance 2                     496509\n",
      "Neutrophill percentage | Instance 0                 25206\n",
      "Neutrophill percentage | Instance 1                482965\n",
      "Neutrophill percentage | Instance 2                496509\n",
      "Lymphocyte count | Instance 0                       25212\n",
      "Lymphocyte count | Instance 1                      482966\n",
      "Lymphocyte count | Instance 2                      496509\n",
      "Lymphocyte percentage | Instance 0                  25206\n",
      "Lymphocyte percentage | Instance 1                 482965\n",
      "Lymphocyte percentage | Instance 2                 496509\n",
      "dtype: int64\n"
     ]
    }
   ],
   "source": [
    "print(\"Number of missing values: \\n\", wb.isna().sum())"
   ]
  },
  {
   "cell_type": "code",
   "execution_count": 196,
   "id": "b282b5f3-6b56-45b5-b378-a09cad873b8d",
   "metadata": {},
   "outputs": [],
   "source": [
    "import re\n",
    "first_and_general_instances = [i for i in list(wb.columns) if not re.search(\"Instance 1|Instance 2|Instance 3\", i)]\n",
    "remove_columns = [ i for i in wb.columns if i not in first_and_general_instances ]\n",
    "wb = wb.drop(remove_columns, axis=1)"
   ]
  },
  {
   "cell_type": "code",
   "execution_count": 197,
   "id": "ee143ab9-1f9a-4100-88fc-6043298feb6e",
   "metadata": {},
   "outputs": [],
   "source": [
    "df = df.merge(wb, on=\"Participant ID\")"
   ]
  },
  {
   "cell_type": "code",
   "execution_count": 179,
   "id": "5fbbea5f-fddb-4cb7-8d7e-02f7d269086b",
   "metadata": {},
   "outputs": [],
   "source": [
    "df = df[['Participant ID', 'Haemoglobin concentration | Instance 0',\n",
    "       'Albumin | Instance 0', 'Creatinine | Instance 0',\n",
    "       'C-reactive protein | Instance 0', 'Cholesterol | Instance 0',\n",
    "       'HDL cholesterol | Instance 0', 'LDL direct | Instance 0',\n",
    "       'Glucose | Instance 0', 'Triglycerides | Instance 0',\n",
    "       'Vitamin D | Instance 0', 'Glycated haemoglobin (HbA1c) | Instance 0',\n",
    "       'Alanine aminotransferase | Instance 0',\n",
    "       'Alkaline phosphatase | Instance 0', 'Apolipoprotein A | Instance 0',\n",
    "       'Apolipoprotein B | Instance 0',\n",
    "       'Aspartate aminotransferase | Instance 0', 'Calcium | Instance 0',\n",
    "       'Direct bilirubin | Instance 0',\n",
    "       'Gamma glutamyltransferase | Instance 0', 'IGF-1 | Instance 0',\n",
    "       'Lipoprotein A | Instance 0', 'Rheumatoid factor | Instance 0',\n",
    "       'Phosphate | Instance 0', 'trigl_hdl_ratio', 'apob_apoa_ratio',\n",
    "       'Age at recruitment', 'Sex_binary', 'Asian', 'Black', 'Chinese',\n",
    "       'Mixed', 'Other', 'White', 'gfr', 'Eosinophill count | Instance 0',\n",
    "       'Eosinophill percentage | Instance 0',\n",
    "       'White blood cell (leukocyte) count | Instance 0',\n",
    "       'Neutrophill count | Instance 0', 'Neutrophill percentage | Instance 0',\n",
    "       'Lymphocyte count | Instance 0', 'Lymphocyte percentage | Instance 0',\n",
    "        'first_occurence_binary',\n",
    "       'first_occurence_tertiary']]"
   ]
  },
  {
   "cell_type": "code",
   "execution_count": 180,
   "id": "75e09509-cf10-4077-8be8-959e60b70cc4",
   "metadata": {},
   "outputs": [
    {
     "name": "stdout",
     "output_type": "stream",
     "text": [
      "Number of missing values: \n",
      " Participant ID                                        0\n",
      "Haemoglobin concentration | Instance 0                0\n",
      "Albumin | Instance 0                                  0\n",
      "Creatinine | Instance 0                               0\n",
      "C-reactive protein | Instance 0                       0\n",
      "Cholesterol | Instance 0                              0\n",
      "HDL cholesterol | Instance 0                          0\n",
      "LDL direct | Instance 0                               0\n",
      "Glucose | Instance 0                                  0\n",
      "Triglycerides | Instance 0                            0\n",
      "Vitamin D | Instance 0                                0\n",
      "Glycated haemoglobin (HbA1c) | Instance 0             0\n",
      "Alanine aminotransferase | Instance 0                 0\n",
      "Alkaline phosphatase | Instance 0                     0\n",
      "Apolipoprotein A | Instance 0                         0\n",
      "Apolipoprotein B | Instance 0                         0\n",
      "Aspartate aminotransferase | Instance 0               0\n",
      "Calcium | Instance 0                                  0\n",
      "Direct bilirubin | Instance 0                         0\n",
      "Gamma glutamyltransferase | Instance 0                0\n",
      "IGF-1 | Instance 0                                    0\n",
      "Lipoprotein A | Instance 0                            0\n",
      "Rheumatoid factor | Instance 0                        0\n",
      "Phosphate | Instance 0                                0\n",
      "trigl_hdl_ratio                                       0\n",
      "apob_apoa_ratio                                       0\n",
      "Age at recruitment                                    0\n",
      "Sex_binary                                            0\n",
      "Asian                                                 0\n",
      "Black                                                 0\n",
      "Chinese                                               0\n",
      "Mixed                                                 0\n",
      "Other                                                 0\n",
      "White                                                 0\n",
      "gfr                                                   0\n",
      "Eosinophill count | Instance 0                     5584\n",
      "Eosinophill percentage | Instance 0                5583\n",
      "White blood cell (leukocyte) count | Instance 0    5393\n",
      "Neutrophill count | Instance 0                     5584\n",
      "Neutrophill percentage | Instance 0                5583\n",
      "Lymphocyte count | Instance 0                      5584\n",
      "Lymphocyte percentage | Instance 0                 5583\n",
      "first_occurence_binary                                0\n",
      "first_occurence_tertiary                              0\n",
      "dtype: int64\n",
      "Dataframe dimensions:  (97266, 44)\n"
     ]
    },
    {
     "data": {
      "image/png": "[encoded data removed]",
      "text/plain": [
       "<Figure size 640x480 with 1 Axes>"
      ]
     },
     "metadata": {},
     "output_type": "display_data"
    },
    {
     "name": "stdout",
     "output_type": "stream",
     "text": [
      "F1_macro:  0.8325824778239661 0.7512578186739975 0.8329822150736345\n",
      "F1_micro:  0.8328706441732425 0.7559372720750186 0.8333435720687544\n",
      "auc:  [0.5025805522998786, 0.9082238210544321, 0.8518927291430873, 0.909544482724784]\n",
      "accuracy:  [0.5025805522998786, 0.8328706441732425, 0.7559372720750186, 0.8333435720687544]\n"
     ]
    }
   ],
   "source": [
    "df2 = df.copy()\n",
    "emp.pipeline(df, \"first_occurence_binary\", df.columns[1:-2].tolist(), 0.25, multiclass=1, splits=5)"
   ]
  },
  {
   "cell_type": "code",
   "execution_count": 181,
   "id": "2dbb27e4-1d62-4ff3-af3a-2c63a744a1da",
   "metadata": {},
   "outputs": [
    {
     "data": {
      "text/plain": [
       "first_occurence_tertiary\n",
       "0    6.795438\n",
       "1    7.656359\n",
       "2    7.576606\n",
       "Name: White blood cell (leukocyte) count | Instance 0, dtype: float64"
      ]
     },
     "execution_count": 181,
     "metadata": {},
     "output_type": "execute_result"
    }
   ],
   "source": [
    "df.groupby(\"first_occurence_tertiary\")[\"White blood cell (leukocyte) count | Instance 0\"].mean()"
   ]
  },
  {
   "cell_type": "code",
   "execution_count": 182,
   "id": "32a63200-4db5-4e9b-8b13-7198c55dc72b",
   "metadata": {},
   "outputs": [
    {
     "data": {
      "text/plain": [
       "first_occurence_tertiary\n",
       "0    2.558220\n",
       "1    2.761712\n",
       "2    2.634312\n",
       "Name: Eosinophill percentage | Instance 0, dtype: float64"
      ]
     },
     "execution_count": 182,
     "metadata": {},
     "output_type": "execute_result"
    }
   ],
   "source": [
    "df.groupby(\"first_occurence_tertiary\")[\"Eosinophill percentage | Instance 0\"].mean()"
   ]
  },
  {
   "cell_type": "code",
   "execution_count": 183,
   "id": "24dbec67-c64c-4877-b5cd-403015b08c7a",
   "metadata": {},
   "outputs": [
    {
     "data": {
      "text/plain": [
       "first_occurence_tertiary\n",
       "0    60.807169\n",
       "1    61.643157\n",
       "2    60.870012\n",
       "Name: Neutrophill percentage | Instance 0, dtype: float64"
      ]
     },
     "execution_count": 183,
     "metadata": {},
     "output_type": "execute_result"
    }
   ],
   "source": [
    "df.groupby(\"first_occurence_tertiary\")[\"Neutrophill percentage | Instance 0\"].mean()"
   ]
  },
  {
   "cell_type": "code",
   "execution_count": 184,
   "id": "7e82f43d-ca0f-46fb-9572-465180e97664",
   "metadata": {},
   "outputs": [
    {
     "data": {
      "text/plain": [
       "first_occurence_tertiary\n",
       "0    28.990802\n",
       "1    28.012376\n",
       "2    28.826157\n",
       "Name: Lymphocyte percentage | Instance 0, dtype: float64"
      ]
     },
     "execution_count": 184,
     "metadata": {},
     "output_type": "execute_result"
    }
   ],
   "source": [
    "df.groupby(\"first_occurence_tertiary\")[\"Lymphocyte percentage | Instance 0\"].mean()"
   ]
  },
  {
   "cell_type": "code",
   "execution_count": 198,
   "id": "1322cbdc-07dc-4987-ab9d-ea12f18509e7",
   "metadata": {},
   "outputs": [],
   "source": [
    "def binning_wbc(i):\n",
    "    if i <4.5:\n",
    "        return 0\n",
    "    if i > 11:\n",
    "        return 2\n",
    "    return 1\n",
    "    \n",
    "df[\"wbc_bin\"] = df[\"White blood cell (leukocyte) count | Instance 0\"].apply(binning_wbc)"
   ]
  },
  {
   "cell_type": "code",
   "execution_count": 199,
   "id": "7a166535-4ad1-4144-b4f6-17c2c89d1f8e",
   "metadata": {},
   "outputs": [],
   "source": [
    "df = df[['Participant ID', 'Haemoglobin concentration | Instance 0',\n",
    "       'Albumin | Instance 0', 'Creatinine | Instance 0',\n",
    "       'C-reactive protein | Instance 0', 'Cholesterol | Instance 0',\n",
    "       'HDL cholesterol | Instance 0', 'LDL direct | Instance 0',\n",
    "       'Glucose | Instance 0', 'Triglycerides | Instance 0',\n",
    "       'Vitamin D | Instance 0', 'Glycated haemoglobin (HbA1c) | Instance 0',\n",
    "       'Alanine aminotransferase | Instance 0',\n",
    "       'Alkaline phosphatase | Instance 0', 'Apolipoprotein A | Instance 0',\n",
    "       'Apolipoprotein B | Instance 0',\n",
    "       'Aspartate aminotransferase | Instance 0', 'Calcium | Instance 0',\n",
    "       'Direct bilirubin | Instance 0',\n",
    "       'Gamma glutamyltransferase | Instance 0', 'IGF-1 | Instance 0',\n",
    "       'Lipoprotein A | Instance 0', 'Rheumatoid factor | Instance 0',\n",
    "       'Phosphate | Instance 0', 'trigl_hdl_ratio', 'apob_apoa_ratio',\n",
    "       'Age at recruitment', 'Sex_binary', 'Asian', 'Black', 'Chinese',\n",
    "       'Mixed', 'Other', 'White', 'gfr', 'wbc_bin',\n",
    "       'first_occurence_binary', 'first_occurence_tertiary']]"
   ]
  },
  {
   "cell_type": "code",
   "execution_count": 200,
   "id": "9506d248-5944-4911-a723-3a6527dd1e18",
   "metadata": {},
   "outputs": [
    {
     "name": "stdout",
     "output_type": "stream",
     "text": [
      "Number of missing values: \n",
      " Participant ID                               0\n",
      "Haemoglobin concentration | Instance 0       0\n",
      "Albumin | Instance 0                         0\n",
      "Creatinine | Instance 0                      0\n",
      "C-reactive protein | Instance 0              0\n",
      "Cholesterol | Instance 0                     0\n",
      "HDL cholesterol | Instance 0                 0\n",
      "LDL direct | Instance 0                      0\n",
      "Glucose | Instance 0                         0\n",
      "Triglycerides | Instance 0                   0\n",
      "Vitamin D | Instance 0                       0\n",
      "Glycated haemoglobin (HbA1c) | Instance 0    0\n",
      "Alanine aminotransferase | Instance 0        0\n",
      "Alkaline phosphatase | Instance 0            0\n",
      "Apolipoprotein A | Instance 0                0\n",
      "Apolipoprotein B | Instance 0                0\n",
      "Aspartate aminotransferase | Instance 0      0\n",
      "Calcium | Instance 0                         0\n",
      "Direct bilirubin | Instance 0                0\n",
      "Gamma glutamyltransferase | Instance 0       0\n",
      "IGF-1 | Instance 0                           0\n",
      "Lipoprotein A | Instance 0                   0\n",
      "Rheumatoid factor | Instance 0               0\n",
      "Phosphate | Instance 0                       0\n",
      "trigl_hdl_ratio                              0\n",
      "apob_apoa_ratio                              0\n",
      "Age at recruitment                           0\n",
      "Sex_binary                                   0\n",
      "Asian                                        0\n",
      "Black                                        0\n",
      "Chinese                                      0\n",
      "Mixed                                        0\n",
      "Other                                        0\n",
      "White                                        0\n",
      "gfr                                          0\n",
      "wbc_bin                                      0\n",
      "first_occurence_binary                       0\n",
      "first_occurence_tertiary                     0\n",
      "dtype: int64\n",
      "Dataframe dimensions:  (102850, 38)\n"
     ]
    },
    {
     "data": {
      "image/png": "[encoded data removed]",
      "text/plain": [
       "<Figure size 640x480 with 1 Axes>"
      ]
     },
     "metadata": {},
     "output_type": "display_data"
    },
    {
     "name": "stdout",
     "output_type": "stream",
     "text": [
      "F1:  0.8153549681554806 0.707278699981572 0.8205607776316847\n",
      "auc:  [0.5, 0.902288516700388, 0.8419742870249423, 0.9051902953477803]\n",
      "accuracy:  [0.5, 0.8231793874574623, 0.7489256198347107, 0.8273213417598444]\n"
     ]
    }
   ],
   "source": [
    "df2 = df.copy()\n",
    "emp.pipeline(df, \"first_occurence_binary\", df.columns[1:-2].tolist(), 0.25, splits=5)"
   ]
  },
  {
   "cell_type": "code",
   "execution_count": 201,
   "id": "9294ee04-82d5-41b2-a76c-529d1af964ef",
   "metadata": {},
   "outputs": [
    {
     "name": "stdout",
     "output_type": "stream",
     "text": [
      "Number of missing values: \n",
      " Participant ID                               0\n",
      "Haemoglobin concentration | Instance 0       0\n",
      "Albumin | Instance 0                         0\n",
      "Creatinine | Instance 0                      0\n",
      "C-reactive protein | Instance 0              0\n",
      "Cholesterol | Instance 0                     0\n",
      "HDL cholesterol | Instance 0                 0\n",
      "LDL direct | Instance 0                      0\n",
      "Glucose | Instance 0                         0\n",
      "Triglycerides | Instance 0                   0\n",
      "Vitamin D | Instance 0                       0\n",
      "Glycated haemoglobin (HbA1c) | Instance 0    0\n",
      "Alanine aminotransferase | Instance 0        0\n",
      "Alkaline phosphatase | Instance 0            0\n",
      "Apolipoprotein A | Instance 0                0\n",
      "Apolipoprotein B | Instance 0                0\n",
      "Aspartate aminotransferase | Instance 0      0\n",
      "Calcium | Instance 0                         0\n",
      "Direct bilirubin | Instance 0                0\n",
      "Gamma glutamyltransferase | Instance 0       0\n",
      "IGF-1 | Instance 0                           0\n",
      "Lipoprotein A | Instance 0                   0\n",
      "Rheumatoid factor | Instance 0               0\n",
      "Phosphate | Instance 0                       0\n",
      "trigl_hdl_ratio                              0\n",
      "apob_apoa_ratio                              0\n",
      "Age at recruitment                           0\n",
      "Sex_binary                                   0\n",
      "Asian                                        0\n",
      "Black                                        0\n",
      "Chinese                                      0\n",
      "Mixed                                        0\n",
      "Other                                        0\n",
      "White                                        0\n",
      "gfr                                          0\n",
      "wbc_bin                                      0\n",
      "first_occurence_binary                       0\n",
      "first_occurence_tertiary                     0\n",
      "dtype: int64\n",
      "Dataframe dimensions:  (102850, 38)\n"
     ]
    },
    {
     "name": "stderr",
     "output_type": "stream",
     "text": [
      "c:\\users\\keimp\\appdata\\local\\programs\\python\\python39\\lib\\site-packages\\sklearn\\linear_model\\_logistic.py:460: ConvergenceWarning: lbfgs failed to converge (status=1):\n",
      "STOP: TOTAL NO. of f AND g EVALUATIONS EXCEEDS LIMIT.\n",
      "\n",
      "Increase the number of iterations (max_iter) or scale the data as shown in:\n",
      "    https://scikit-learn.org/stable/modules/preprocessing.html\n",
      "Please also refer to the documentation for alternative solver options:\n",
      "    https://scikit-learn.org/stable/modules/linear_model.html#logistic-regression\n",
      "  n_iter_i = _check_optimize_result(\n"
     ]
    },
    {
     "data": {
      "image/png": "[encoded data removed]",
      "text/plain": [
       "<Figure size 640x480 with 1 Axes>"
      ]
     },
     "metadata": {},
     "output_type": "display_data"
    },
    {
     "name": "stdout",
     "output_type": "stream",
     "text": [
      "F1_macro:  0.6882269368439354 0.6090235327339261 0.6920262955298746\n",
      "F1_micro:  0.7408847836655323 0.6733592610597958 0.741438988818668\n",
      "auc:  [0.5, 0.8671675490572198, 0.8087234510771285, 0.8700324090535771]\n",
      "accuracy:  [0.5, 0.7408847836655323, 0.6733592610597958, 0.741438988818668]\n"
     ]
    }
   ],
   "source": [
    "del df\n",
    "df = df2.copy()\n",
    "emp.pipeline(df, \"first_occurence_tertiary\", df.columns[1:-2].tolist(), 0.25, multiclass=1, splits=5)"
   ]
  },
  {
   "cell_type": "markdown",
   "id": "e780cf32-e8e8-4c02-86f4-455b1cdf8225",
   "metadata": {},
   "source": [
    "### Exclude insulin users"
   ]
  },
  {
   "cell_type": "code",
   "execution_count": 211,
   "id": "0d9eead1-4bdf-42b1-8669-f1c35d694fd5",
   "metadata": {},
   "outputs": [
    {
     "data": {
      "text/plain": [
       "Index(['Participant ID', 'Haemoglobin concentration | Instance 0',\n",
       "       'Albumin | Instance 0', 'Creatinine | Instance 0',\n",
       "       'C-reactive protein | Instance 0', 'Cholesterol | Instance 0',\n",
       "       'HDL cholesterol | Instance 0', 'LDL direct | Instance 0',\n",
       "       'Glucose | Instance 0', 'Triglycerides | Instance 0',\n",
       "       'Vitamin D | Instance 0', 'Glycated haemoglobin (HbA1c) | Instance 0',\n",
       "       'Alanine aminotransferase | Instance 0',\n",
       "       'Alkaline phosphatase | Instance 0', 'Apolipoprotein A | Instance 0',\n",
       "       'Apolipoprotein B | Instance 0',\n",
       "       'Aspartate aminotransferase | Instance 0', 'Calcium | Instance 0',\n",
       "       'Direct bilirubin | Instance 0',\n",
       "       'Gamma glutamyltransferase | Instance 0', 'IGF-1 | Instance 0',\n",
       "       'Lipoprotein A | Instance 0', 'Rheumatoid factor | Instance 0',\n",
       "       'Phosphate | Instance 0', 'trigl_hdl_ratio', 'apob_apoa_ratio',\n",
       "       'Age at recruitment', 'Sex_binary', 'Asian', 'Black', 'Chinese',\n",
       "       'Mixed', 'Other', 'White', 'gfr', 'wbc_bin', 'first_occurence_binary',\n",
       "       'first_occurence_tertiary', 'Cholesterol_lowering_medication',\n",
       "       'Insulin', 'Blood_pressure'],\n",
       "      dtype='object')"
      ]
     },
     "execution_count": 211,
     "metadata": {},
     "output_type": "execute_result"
    }
   ],
   "source": [
    "df.columns"
   ]
  },
  {
   "cell_type": "code",
   "execution_count": 208,
   "id": "9b116a3e-4bfe-4931-9444-f3b7d8e00c47",
   "metadata": {},
   "outputs": [],
   "source": [
    "med = dp.pre_medications()"
   ]
  },
  {
   "cell_type": "code",
   "execution_count": 210,
   "id": "62211879-2af1-4567-b67b-1b08d1e104a5",
   "metadata": {},
   "outputs": [],
   "source": [
    "df = df.merge(med, on=\"Participant ID\")"
   ]
  },
  {
   "cell_type": "code",
   "execution_count": 212,
   "id": "9ce71d21-eb9b-4547-8e1b-486548fed0b9",
   "metadata": {},
   "outputs": [],
   "source": [
    "df = df.drop(df[df[\"Cholesterol_lowering_medication\"] == 1].index)\n",
    "df = df.drop(df[df[\"Insulin\"] == 1].index)\n",
    "df = df.drop(df[df[\"Blood_pressure\"] == 1].index)"
   ]
  },
  {
   "cell_type": "code",
   "execution_count": 214,
   "id": "ecdb09d5-cd65-43c5-ac0b-5d35cfadb87e",
   "metadata": {},
   "outputs": [
    {
     "data": {
      "text/plain": [
       "(55989, 41)"
      ]
     },
     "execution_count": 214,
     "metadata": {},
     "output_type": "execute_result"
    }
   ],
   "source": [
    "df.shape"
   ]
  },
  {
   "cell_type": "code",
   "execution_count": 215,
   "id": "7f82bd80-c55f-4508-8b11-04f098f73027",
   "metadata": {},
   "outputs": [],
   "source": [
    "df = df.drop(['Cholesterol_lowering_medication',\n",
    "       'Insulin', 'Blood_pressure'], axis=1)"
   ]
  },
  {
   "cell_type": "code",
   "execution_count": 217,
   "id": "131568e1-c993-4d2e-9279-3cea721affea",
   "metadata": {},
   "outputs": [
    {
     "name": "stdout",
     "output_type": "stream",
     "text": [
      "Number of missing values: \n",
      " Participant ID                               0\n",
      "Haemoglobin concentration | Instance 0       0\n",
      "Albumin | Instance 0                         0\n",
      "Creatinine | Instance 0                      0\n",
      "C-reactive protein | Instance 0              0\n",
      "Cholesterol | Instance 0                     0\n",
      "HDL cholesterol | Instance 0                 0\n",
      "LDL direct | Instance 0                      0\n",
      "Glucose | Instance 0                         0\n",
      "Triglycerides | Instance 0                   0\n",
      "Vitamin D | Instance 0                       0\n",
      "Glycated haemoglobin (HbA1c) | Instance 0    0\n",
      "Alanine aminotransferase | Instance 0        0\n",
      "Alkaline phosphatase | Instance 0            0\n",
      "Apolipoprotein A | Instance 0                0\n",
      "Apolipoprotein B | Instance 0                0\n",
      "Aspartate aminotransferase | Instance 0      0\n",
      "Calcium | Instance 0                         0\n",
      "Direct bilirubin | Instance 0                0\n",
      "Gamma glutamyltransferase | Instance 0       0\n",
      "IGF-1 | Instance 0                           0\n",
      "Lipoprotein A | Instance 0                   0\n",
      "Rheumatoid factor | Instance 0               0\n",
      "Phosphate | Instance 0                       0\n",
      "trigl_hdl_ratio                              0\n",
      "apob_apoa_ratio                              0\n",
      "Age at recruitment                           0\n",
      "Sex_binary                                   0\n",
      "Asian                                        0\n",
      "Black                                        0\n",
      "Chinese                                      0\n",
      "Mixed                                        0\n",
      "Other                                        0\n",
      "White                                        0\n",
      "gfr                                          0\n",
      "wbc_bin                                      0\n",
      "first_occurence_binary                       0\n",
      "first_occurence_tertiary                     0\n",
      "dtype: int64\n",
      "Dataframe dimensions:  (55989, 38)\n"
     ]
    },
    {
     "data": {
      "image/png": "[encoded data removed]",
      "text/plain": [
       "<Figure size 640x480 with 1 Axes>"
      ]
     },
     "metadata": {},
     "output_type": "display_data"
    },
    {
     "name": "stdout",
     "output_type": "stream",
     "text": [
      "F1:  0.6476887622669951 0.5404464273548276 0.653272950609179\n",
      "auc:  [0.7102287949418635, 0.8565802389477633, 0.7877829268787966, 0.8564667979523343]\n",
      "accuracy:  [0.7102287949418635, 0.8271802401974618, 0.7690437423095255, 0.8269480064307404]\n"
     ]
    }
   ],
   "source": [
    "emp.pipeline(df, \"first_occurence_binary\", df.columns[1:-2].tolist(), 0.25, splits=5)"
   ]
  },
  {
   "cell_type": "code",
   "execution_count": 218,
   "id": "88335c4e-5641-4acf-9451-e91ebc3def7a",
   "metadata": {},
   "outputs": [
    {
     "name": "stdout",
     "output_type": "stream",
     "text": [
      "Number of missing values: \n",
      " Participant ID                               0\n",
      "Haemoglobin concentration | Instance 0       0\n",
      "Albumin | Instance 0                         0\n",
      "Creatinine | Instance 0                      0\n",
      "C-reactive protein | Instance 0              0\n",
      "Cholesterol | Instance 0                     0\n",
      "HDL cholesterol | Instance 0                 0\n",
      "LDL direct | Instance 0                      0\n",
      "Glucose | Instance 0                         0\n",
      "Triglycerides | Instance 0                   0\n",
      "Vitamin D | Instance 0                       0\n",
      "Glycated haemoglobin (HbA1c) | Instance 0    0\n",
      "Alanine aminotransferase | Instance 0        0\n",
      "Alkaline phosphatase | Instance 0            0\n",
      "Apolipoprotein A | Instance 0                0\n",
      "Apolipoprotein B | Instance 0                0\n",
      "Aspartate aminotransferase | Instance 0      0\n",
      "Calcium | Instance 0                         0\n",
      "Direct bilirubin | Instance 0                0\n",
      "Gamma glutamyltransferase | Instance 0       0\n",
      "IGF-1 | Instance 0                           0\n",
      "Lipoprotein A | Instance 0                   0\n",
      "Rheumatoid factor | Instance 0               0\n",
      "Phosphate | Instance 0                       0\n",
      "trigl_hdl_ratio                              0\n",
      "apob_apoa_ratio                              0\n",
      "Age at recruitment                           0\n",
      "Sex_binary                                   0\n",
      "Asian                                        0\n",
      "Black                                        0\n",
      "Chinese                                      0\n",
      "Mixed                                        0\n",
      "Other                                        0\n",
      "White                                        0\n",
      "gfr                                          0\n",
      "wbc_bin                                      0\n",
      "first_occurence_binary                       0\n",
      "first_occurence_tertiary                     0\n",
      "dtype: int64\n",
      "Dataframe dimensions:  (55989, 38)\n"
     ]
    },
    {
     "name": "stderr",
     "output_type": "stream",
     "text": [
      "c:\\users\\keimp\\appdata\\local\\programs\\python\\python39\\lib\\site-packages\\sklearn\\linear_model\\_logistic.py:460: ConvergenceWarning: lbfgs failed to converge (status=1):\n",
      "STOP: TOTAL NO. of f AND g EVALUATIONS EXCEEDS LIMIT.\n",
      "\n",
      "Increase the number of iterations (max_iter) or scale the data as shown in:\n",
      "    https://scikit-learn.org/stable/modules/preprocessing.html\n",
      "Please also refer to the documentation for alternative solver options:\n",
      "    https://scikit-learn.org/stable/modules/linear_model.html#logistic-regression\n",
      "  n_iter_i = _check_optimize_result(\n"
     ]
    },
    {
     "data": {
      "image/png": "[encoded data removed]",
      "text/plain": [
       "<Figure size 640x480 with 1 Axes>"
      ]
     },
     "metadata": {},
     "output_type": "display_data"
    },
    {
     "name": "stdout",
     "output_type": "stream",
     "text": [
      "F1_macro:  0.5617265813220612 0.5090041011253563 0.5905424637163652\n",
      "F1_micro:  0.7927985121164497 0.7222309103762404 0.7941916595008138\n",
      "auc:  [0.7102287949418635, 0.8391071020328538, 0.7709259582125649, 0.8361689710195063]\n",
      "accuracy:  [0.7102287949418635, 0.7927985121164497, 0.7222309103762405, 0.7941916595008138]\n"
     ]
    }
   ],
   "source": [
    "emp.pipeline(df, \"first_occurence_tertiary\", df.columns[1:-2].tolist(), 0.25, multiclass=1, splits=5)"
   ]
  },
  {
   "cell_type": "markdown",
   "id": "c502465d-ce0b-49d1-95e2-8785d6567489",
   "metadata": {},
   "source": [
    "### Resampling"
   ]
  },
  {
   "cell_type": "code",
   "execution_count": 221,
   "id": "f95e8bca-1e96-4da0-adec-5dc989896acd",
   "metadata": {},
   "outputs": [
    {
     "name": "stderr",
     "output_type": "stream",
     "text": [
      "C:\\Users\\keimp\\AppData\\Roaming\\Python\\Python39\\site-packages\\IPython\\core\\interactiveshell.py:3318: DtypeWarning: Columns (3) have mixed types.Specify dtype option on import or set low_memory=False.\n",
      "  if await self.run_code(code, result, async_=asy):\n",
      "C:\\Users\\keimp\\NHS\\Code\\experimental_modeling\\diabetes\\experimental_modeling_pipeline.py:723: FutureWarning: The pandas.np module is deprecated and will be removed from pandas in a future version. Import numpy directly instead\n",
      "  return pd.np.nan\n"
     ]
    },
    {
     "name": "stdout",
     "output_type": "stream",
     "text": [
      "Varible not convertable to datetime:  Date E11 first reported (non-insulin-dependent diabetes mellitus)    Code has event date matching participant's dat...\n",
      "Date E14 first reported (unspecified diabetes mellitus)                                                     1998-11-01\n",
      "Name: 225392, dtype: object\n",
      "Varible not convertable to datetime:  Date E10 first reported (insulin-dependent diabetes mellitus)                                               2007-05-10\n",
      "Date E11 first reported (non-insulin-dependent diabetes mellitus)    Code has event date matching participant's dat...\n",
      "Date E14 first reported (unspecified diabetes mellitus)                                                     2005-02-06\n",
      "Name: 318419, dtype: object\n",
      "Varible not convertable to datetime:  Date E11 first reported (non-insulin-dependent diabetes mellitus)    Code has event date matching participant's dat...\n",
      "Date E14 first reported (unspecified diabetes mellitus)                                                     1994-03-01\n",
      "Name: 418282, dtype: object\n",
      "Varible not convertable to datetime:  Date E10 first reported (insulin-dependent diabetes mellitus)        Code has event date matching participant's dat...\n",
      "Date E11 first reported (non-insulin-dependent diabetes mellitus)                                           2006-12-14\n",
      "Date E14 first reported (unspecified diabetes mellitus)                                                     1974-09-01\n",
      "Name: 458276, dtype: object\n"
     ]
    },
    {
     "name": "stderr",
     "output_type": "stream",
     "text": [
      "C:\\Users\\keimp\\AppData\\Roaming\\Python\\Python39\\site-packages\\IPython\\core\\interactiveshell.py:3318: DtypeWarning: Columns (3) have mixed types.Specify dtype option on import or set low_memory=False.\n",
      "  if await self.run_code(code, result, async_=asy):\n",
      "C:\\Users\\keimp\\NHS\\Code\\experimental_modeling\\diabetes\\experimental_modeling_pipeline.py:723: FutureWarning: The pandas.np module is deprecated and will be removed from pandas in a future version. Import numpy directly instead\n",
      "  return pd.np.nan\n"
     ]
    },
    {
     "name": "stdout",
     "output_type": "stream",
     "text": [
      "Varible not convertable to datetime:  Date E11 first reported (non-insulin-dependent diabetes mellitus)    Code has event date matching participant's dat...\n",
      "Date E14 first reported (unspecified diabetes mellitus)                                                     1998-11-01\n",
      "Name: 225392, dtype: object\n",
      "Varible not convertable to datetime:  Date E10 first reported (insulin-dependent diabetes mellitus)                                               2007-05-10\n",
      "Date E11 first reported (non-insulin-dependent diabetes mellitus)    Code has event date matching participant's dat...\n",
      "Date E14 first reported (unspecified diabetes mellitus)                                                     2005-02-06\n",
      "Name: 318419, dtype: object\n",
      "Varible not convertable to datetime:  Date E11 first reported (non-insulin-dependent diabetes mellitus)    Code has event date matching participant's dat...\n",
      "Date E14 first reported (unspecified diabetes mellitus)                                                     1994-03-01\n",
      "Name: 418282, dtype: object\n",
      "Varible not convertable to datetime:  Date E10 first reported (insulin-dependent diabetes mellitus)        Code has event date matching participant's dat...\n",
      "Date E11 first reported (non-insulin-dependent diabetes mellitus)                                           2006-12-14\n",
      "Date E14 first reported (unspecified diabetes mellitus)                                                     1974-09-01\n",
      "Name: 458276, dtype: object\n"
     ]
    }
   ],
   "source": [
    "def gfr(l):\n",
    "    gfr = 175 * (l[3]**-1.154) * (l[26] ** -0.203) \n",
    "    if l[27] == 0:\n",
    "        gfr = gfr*0.742\n",
    "    if l[29] == 1:\n",
    "        gfr = gfr*1.212\n",
    "    return gfr\n",
    "df = dp.pre_blood_biomarker()\n",
    "df[\"apob_apoa_ratio\"] = df[\"Apolipoprotein B | Instance 0\"] / df[\"Apolipoprotein A | Instance 0\"]\n",
    "\n",
    "df = df.merge(dem, on=\"Participant ID\")\n",
    "df = df.merge(wb, on=\"Participant ID\")\n",
    "df = df.merge(med, on=\"Participant ID\")\n",
    "df = df.drop(df[df[\"Cholesterol_lowering_medication\"] == 1].index)\n",
    "df = df.drop(df[df[\"Insulin\"] == 1].index)\n",
    "df = df.drop(df[df[\"Blood_pressure\"] == 1].index)\n",
    "df = df.drop(['Cholesterol_lowering_medication',\n",
    "       'Insulin', 'Blood_pressure'], axis=1)\n",
    "df[\"gfr\"] = df.apply(gfr, axis=1)\n",
    "labels = dp.pre_first_occurence_labels()\n",
    "labels_nodm = labels.drop(labels[labels[\"first_occurence_tertiary\"] == 1].index )"
   ]
  },
  {
   "cell_type": "code",
   "execution_count": 225,
   "id": "1c6bc247-9809-465d-a698-e0e8ab28fad4",
   "metadata": {},
   "outputs": [
    {
     "data": {
      "text/plain": [
       "(76589, 3)"
      ]
     },
     "execution_count": 225,
     "metadata": {},
     "output_type": "execute_result"
    }
   ],
   "source": [
    "labels_nodm.shape"
   ]
  },
  {
   "cell_type": "code",
   "execution_count": 226,
   "id": "f3d00f89-d20e-46e7-9bfd-2ee1e1c6d38c",
   "metadata": {},
   "outputs": [
    {
     "data": {
      "text/plain": [
       "(364148, 42)"
      ]
     },
     "execution_count": 226,
     "metadata": {},
     "output_type": "execute_result"
    }
   ],
   "source": [
    "df.shape"
   ]
  },
  {
   "cell_type": "code",
   "execution_count": 227,
   "id": "369d9d86-83aa-4098-bb70-dc4071f8b454",
   "metadata": {},
   "outputs": [],
   "source": [
    "df_nodm = df.merge(labels_nodm, on=\"Participant ID\")"
   ]
  },
  {
   "cell_type": "code",
   "execution_count": 232,
   "id": "596dea12-fd5f-4ecd-8ae1-6143187e7b67",
   "metadata": {},
   "outputs": [],
   "source": [
    "df_nodmcopy = df_nodm.copy()"
   ]
  },
  {
   "cell_type": "code",
   "execution_count": 234,
   "id": "184485cc-33a7-44d4-9ded-1e97c8ee9690",
   "metadata": {},
   "outputs": [
    {
     "name": "stdout",
     "output_type": "stream",
     "text": [
      "Number of missing values: \n",
      " Participant ID                                         0\n",
      "Haemoglobin concentration | Instance 0              2881\n",
      "Albumin | Instance 0                                7849\n",
      "Creatinine | Instance 0                             3765\n",
      "C-reactive protein | Instance 0                     3885\n",
      "Cholesterol | Instance 0                            3748\n",
      "HDL cholesterol | Instance 0                        7874\n",
      "LDL direct | Instance 0                             3852\n",
      "Glucose | Instance 0                                7889\n",
      "Triglycerides | Instance 0                          3793\n",
      "Vitamin D | Instance 0                              6635\n",
      "Glycated haemoglobin (HbA1c) | Instance 0           4167\n",
      "Alanine aminotransferase | Instance 0               3781\n",
      "Alkaline phosphatase | Instance 0                   3748\n",
      "Apolipoprotein A | Instance 0                       8100\n",
      "Apolipoprotein B | Instance 0                       4032\n",
      "Aspartate aminotransferase | Instance 0             3949\n",
      "Calcium | Instance 0                                7861\n",
      "Direct bilirubin | Instance 0                      12343\n",
      "Gamma glutamyltransferase | Instance 0              3775\n",
      "IGF-1 | Instance 0                                  4035\n",
      "Lipoprotein A | Instance 0                         13039\n",
      "Rheumatoid factor | Instance 0                     48450\n",
      "Phosphate | Instance 0                              7935\n",
      "trigl_hdl_ratio                                     7905\n",
      "apob_apoa_ratio                                     8366\n",
      "Age at recruitment                                     0\n",
      "Sex_binary                                             0\n",
      "Asian                                                  0\n",
      "Black                                                  0\n",
      "Chinese                                                0\n",
      "Mixed                                                  0\n",
      "Other                                                  0\n",
      "White                                                  0\n",
      "Eosinophill count | Instance 0                      2969\n",
      "Eosinophill percentage | Instance 0                 2969\n",
      "White blood cell (leukocyte) count | Instance 0     2881\n",
      "Neutrophill count | Instance 0                      2969\n",
      "Neutrophill percentage | Instance 0                 2969\n",
      "Lymphocyte count | Instance 0                       2969\n",
      "Lymphocyte percentage | Instance 0                  2969\n",
      "gfr                                                 3765\n",
      "first_occurence_binary                                 0\n",
      "first_occurence_tertiary                               0\n",
      "dtype: int64\n",
      "Dataframe dimensions:  (2155, 44)\n"
     ]
    },
    {
     "data": {
      "image/png": "[encoded data removed]",
      "text/plain": [
       "<Figure size 640x480 with 1 Axes>"
      ]
     },
     "metadata": {},
     "output_type": "display_data"
    },
    {
     "name": "stdout",
     "output_type": "stream",
     "text": [
      "F1:  0.5825692503941893 0.49391713237017393 0.5679631085373835\n",
      "auc:  [0.7679814385150812, 0.8384229607250755, 0.767250755287009, 0.8441540785498489]\n",
      "accuracy:  [0.7679814385150812, 0.8440835266821346, 0.7545243619489559, 0.8436194895591648]\n"
     ]
    }
   ],
   "source": [
    "emp.pipeline(df_nodm, \"first_occurence_binary\", df_nodm.columns[1:-2].tolist(), 0.25, splits=5)"
   ]
  },
  {
   "cell_type": "code",
   "execution_count": 235,
   "id": "fdd91189-0f47-46ed-80f3-1733e2b38cf4",
   "metadata": {},
   "outputs": [],
   "source": [
    "imputed_values_nodm = imputer.fit_transform(df_nodm)"
   ]
  },
  {
   "cell_type": "code",
   "execution_count": 238,
   "id": "38e6a62b-51de-4289-853c-1ce519c1b9f2",
   "metadata": {},
   "outputs": [],
   "source": [
    "df_imputed = pd.DataFrame(imputed_values_nodm, columns=df_nodm.columns)"
   ]
  },
  {
   "cell_type": "code",
   "execution_count": 239,
   "id": "4b767a17-f72b-42bf-be14-af3f95a82a86",
   "metadata": {},
   "outputs": [
    {
     "name": "stdout",
     "output_type": "stream",
     "text": [
      "Number of missing values: \n",
      " Participant ID                                     0\n",
      "Haemoglobin concentration | Instance 0             0\n",
      "Albumin | Instance 0                               0\n",
      "Creatinine | Instance 0                            0\n",
      "C-reactive protein | Instance 0                    0\n",
      "Cholesterol | Instance 0                           0\n",
      "HDL cholesterol | Instance 0                       0\n",
      "LDL direct | Instance 0                            0\n",
      "Glucose | Instance 0                               0\n",
      "Triglycerides | Instance 0                         0\n",
      "Vitamin D | Instance 0                             0\n",
      "Glycated haemoglobin (HbA1c) | Instance 0          0\n",
      "Alanine aminotransferase | Instance 0              0\n",
      "Alkaline phosphatase | Instance 0                  0\n",
      "Apolipoprotein A | Instance 0                      0\n",
      "Apolipoprotein B | Instance 0                      0\n",
      "Aspartate aminotransferase | Instance 0            0\n",
      "Calcium | Instance 0                               0\n",
      "Direct bilirubin | Instance 0                      0\n",
      "Gamma glutamyltransferase | Instance 0             0\n",
      "IGF-1 | Instance 0                                 0\n",
      "Lipoprotein A | Instance 0                         0\n",
      "Rheumatoid factor | Instance 0                     0\n",
      "Phosphate | Instance 0                             0\n",
      "trigl_hdl_ratio                                    0\n",
      "apob_apoa_ratio                                    0\n",
      "Age at recruitment                                 0\n",
      "Sex_binary                                         0\n",
      "Asian                                              0\n",
      "Black                                              0\n",
      "Chinese                                            0\n",
      "Mixed                                              0\n",
      "Other                                              0\n",
      "White                                              0\n",
      "Eosinophill count | Instance 0                     0\n",
      "Eosinophill percentage | Instance 0                0\n",
      "White blood cell (leukocyte) count | Instance 0    0\n",
      "Neutrophill count | Instance 0                     0\n",
      "Neutrophill percentage | Instance 0                0\n",
      "Lymphocyte count | Instance 0                      0\n",
      "Lymphocyte percentage | Instance 0                 0\n",
      "gfr                                                0\n",
      "first_occurence_binary                             0\n",
      "first_occurence_tertiary                           0\n",
      "dtype: int64\n"
     ]
    }
   ],
   "source": [
    "print(\"Number of missing values: \\n\", df_imputed.isna().sum())"
   ]
  },
  {
   "cell_type": "code",
   "execution_count": 240,
   "id": "c985d8d9-06ce-4391-b909-dffd8490adc7",
   "metadata": {},
   "outputs": [
    {
     "name": "stdout",
     "output_type": "stream",
     "text": [
      "Number of missing values: \n",
      " Participant ID                                     0\n",
      "Haemoglobin concentration | Instance 0             0\n",
      "Albumin | Instance 0                               0\n",
      "Creatinine | Instance 0                            0\n",
      "C-reactive protein | Instance 0                    0\n",
      "Cholesterol | Instance 0                           0\n",
      "HDL cholesterol | Instance 0                       0\n",
      "LDL direct | Instance 0                            0\n",
      "Glucose | Instance 0                               0\n",
      "Triglycerides | Instance 0                         0\n",
      "Vitamin D | Instance 0                             0\n",
      "Glycated haemoglobin (HbA1c) | Instance 0          0\n",
      "Alanine aminotransferase | Instance 0              0\n",
      "Alkaline phosphatase | Instance 0                  0\n",
      "Apolipoprotein A | Instance 0                      0\n",
      "Apolipoprotein B | Instance 0                      0\n",
      "Aspartate aminotransferase | Instance 0            0\n",
      "Calcium | Instance 0                               0\n",
      "Direct bilirubin | Instance 0                      0\n",
      "Gamma glutamyltransferase | Instance 0             0\n",
      "IGF-1 | Instance 0                                 0\n",
      "Lipoprotein A | Instance 0                         0\n",
      "Rheumatoid factor | Instance 0                     0\n",
      "Phosphate | Instance 0                             0\n",
      "trigl_hdl_ratio                                    0\n",
      "apob_apoa_ratio                                    0\n",
      "Age at recruitment                                 0\n",
      "Sex_binary                                         0\n",
      "Asian                                              0\n",
      "Black                                              0\n",
      "Chinese                                            0\n",
      "Mixed                                              0\n",
      "Other                                              0\n",
      "White                                              0\n",
      "Eosinophill count | Instance 0                     0\n",
      "Eosinophill percentage | Instance 0                0\n",
      "White blood cell (leukocyte) count | Instance 0    0\n",
      "Neutrophill count | Instance 0                     0\n",
      "Neutrophill percentage | Instance 0                0\n",
      "Lymphocyte count | Instance 0                      0\n",
      "Lymphocyte percentage | Instance 0                 0\n",
      "gfr                                                0\n",
      "first_occurence_binary                             0\n",
      "first_occurence_tertiary                           0\n",
      "dtype: int64\n",
      "Dataframe dimensions:  (52609, 44)\n"
     ]
    },
    {
     "data": {
      "image/png": "[encoded data removed]",
      "text/plain": [
       "<Figure size 640x480 with 1 Axes>"
      ]
     },
     "metadata": {},
     "output_type": "display_data"
    },
    {
     "name": "stdout",
     "output_type": "stream",
     "text": [
      "F1:  0.6228869662360677 0.5075020146355911 0.6666842702032628\n",
      "auc:  [0.754110513410253, 0.8664093795692028, 0.7920159471054764, 0.8811563899227297]\n",
      "accuracy:  [0.754110513410253, 0.8449885540420684, 0.7792202436303703, 0.8593586895957634]\n"
     ]
    }
   ],
   "source": [
    "emp.pipeline(df_imputed, \"first_occurence_binary\", df_imputed.columns[1:-2].tolist(), 0.25, splits=5)"
   ]
  },
  {
   "cell_type": "code",
   "execution_count": 241,
   "id": "668a612b-5d04-42cc-a01c-f0565dba5fd2",
   "metadata": {},
   "outputs": [],
   "source": [
    "tone = df_imputed[df_imputed[\"first_occurence_binary\"] == 1]\n",
    "ttwo = df_imputed[df_imputed[\"first_occurence_binary\"] == 0]"
   ]
  },
  {
   "cell_type": "code",
   "execution_count": 242,
   "id": "49485e54-e416-4489-9996-a156917a412a",
   "metadata": {},
   "outputs": [
    {
     "data": {
      "text/plain": [
       "(12936, 44)"
      ]
     },
     "execution_count": 242,
     "metadata": {},
     "output_type": "execute_result"
    }
   ],
   "source": [
    "tone.shape"
   ]
  },
  {
   "cell_type": "code",
   "execution_count": 243,
   "id": "2d7d6333-2022-49c7-81be-725846cee475",
   "metadata": {},
   "outputs": [
    {
     "data": {
      "text/plain": [
       "(39673, 44)"
      ]
     },
     "execution_count": 243,
     "metadata": {},
     "output_type": "execute_result"
    }
   ],
   "source": [
    "ttwo.shape"
   ]
  },
  {
   "cell_type": "code",
   "execution_count": 244,
   "id": "744104fb-49e5-4cb7-a60e-2aa808831193",
   "metadata": {},
   "outputs": [],
   "source": [
    "ttwo_sampled = ttwo.sample(n=tone.shape[0], axis=0)\n",
    "frames = [ttwo_sampled,tone ]\n",
    "df_imputed_sampled = pd.concat(frames, axis=0)"
   ]
  },
  {
   "cell_type": "code",
   "execution_count": 245,
   "id": "49eaf9a1-bdbb-4f7c-91c2-cfe1749b86f7",
   "metadata": {},
   "outputs": [
    {
     "name": "stdout",
     "output_type": "stream",
     "text": [
      "Number of missing values: \n",
      " Participant ID                                     0\n",
      "Haemoglobin concentration | Instance 0             0\n",
      "Albumin | Instance 0                               0\n",
      "Creatinine | Instance 0                            0\n",
      "C-reactive protein | Instance 0                    0\n",
      "Cholesterol | Instance 0                           0\n",
      "HDL cholesterol | Instance 0                       0\n",
      "LDL direct | Instance 0                            0\n",
      "Glucose | Instance 0                               0\n",
      "Triglycerides | Instance 0                         0\n",
      "Vitamin D | Instance 0                             0\n",
      "Glycated haemoglobin (HbA1c) | Instance 0          0\n",
      "Alanine aminotransferase | Instance 0              0\n",
      "Alkaline phosphatase | Instance 0                  0\n",
      "Apolipoprotein A | Instance 0                      0\n",
      "Apolipoprotein B | Instance 0                      0\n",
      "Aspartate aminotransferase | Instance 0            0\n",
      "Calcium | Instance 0                               0\n",
      "Direct bilirubin | Instance 0                      0\n",
      "Gamma glutamyltransferase | Instance 0             0\n",
      "IGF-1 | Instance 0                                 0\n",
      "Lipoprotein A | Instance 0                         0\n",
      "Rheumatoid factor | Instance 0                     0\n",
      "Phosphate | Instance 0                             0\n",
      "trigl_hdl_ratio                                    0\n",
      "apob_apoa_ratio                                    0\n",
      "Age at recruitment                                 0\n",
      "Sex_binary                                         0\n",
      "Asian                                              0\n",
      "Black                                              0\n",
      "Chinese                                            0\n",
      "Mixed                                              0\n",
      "Other                                              0\n",
      "White                                              0\n",
      "Eosinophill count | Instance 0                     0\n",
      "Eosinophill percentage | Instance 0                0\n",
      "White blood cell (leukocyte) count | Instance 0    0\n",
      "Neutrophill count | Instance 0                     0\n",
      "Neutrophill percentage | Instance 0                0\n",
      "Lymphocyte count | Instance 0                      0\n",
      "Lymphocyte percentage | Instance 0                 0\n",
      "gfr                                                0\n",
      "first_occurence_binary                             0\n",
      "first_occurence_tertiary                           0\n",
      "dtype: int64\n",
      "Dataframe dimensions:  (25872, 44)\n"
     ]
    },
    {
     "data": {
      "image/png": "[encoded data removed]",
      "text/plain": [
       "<Figure size 640x480 with 1 Axes>"
      ]
     },
     "metadata": {},
     "output_type": "display_data"
    },
    {
     "name": "stdout",
     "output_type": "stream",
     "text": [
      "F1:  0.79067794984485 0.6142931557820162 0.8008753266223988\n",
      "auc:  [0.5, 0.8651084190796631, 0.789676515568551, 0.8798950910223159]\n",
      "accuracy:  [0.5, 0.7945656935737775, 0.6838279095215953, 0.8049244961335851]\n"
     ]
    }
   ],
   "source": [
    "emp.pipeline(df_imputed_sampled, \"first_occurence_binary\", df_imputed_sampled.columns[1:-2].tolist(), 0.25, splits=5)"
   ]
  },
  {
   "cell_type": "code",
   "execution_count": 246,
   "id": "6516f15f-4eee-4400-8d95-27d6ba0cd45b",
   "metadata": {},
   "outputs": [
    {
     "data": {
      "text/plain": [
       "(25872, 44)"
      ]
     },
     "execution_count": 246,
     "metadata": {},
     "output_type": "execute_result"
    }
   ],
   "source": []
  },
  {
   "cell_type": "code",
   "execution_count": null,
   "id": "ae3e87f1-240d-47a8-b0ba-4dec433e125b",
   "metadata": {},
   "outputs": [],
   "source": []
  }
 ],
 "metadata": {
  "kernelspec": {
   "display_name": "Python 3 (ipykernel)",
   "language": "python",
   "name": "python3"
  },
  "language_info": {
   "codemirror_mode": {
    "name": "ipython",
    "version": 3
   },
   "file_extension": ".py",
   "mimetype": "text/x-python",
   "name": "python",
   "nbconvert_exporter": "python",
   "pygments_lexer": "ipython3",
   "version": "3.9.5"
  }
 },
 "nbformat": 4,
 "nbformat_minor": 5
}
